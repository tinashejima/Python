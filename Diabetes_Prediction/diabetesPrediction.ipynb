{
 "cells": [
  {
   "cell_type": "code",
   "execution_count": 17,
   "metadata": {},
   "outputs": [],
   "source": [
    "## Importing the libraries\n",
    "\n",
    "import numpy as np\n",
    "import pandas as pd\n",
    "import matplotlib.pyplot as plt\n",
    "%matplotlib inline\n",
    "import warnings\n",
    "warnings.filterwarnings('ignore')"
   ]
  },
  {
   "cell_type": "markdown",
   "metadata": {},
   "source": [
    "Data collection and analysis"
   ]
  },
  {
   "cell_type": "code",
   "execution_count": 18,
   "metadata": {},
   "outputs": [
    {
     "data": {
      "text/html": [
       "<div>\n",
       "<style scoped>\n",
       "    .dataframe tbody tr th:only-of-type {\n",
       "        vertical-align: middle;\n",
       "    }\n",
       "\n",
       "    .dataframe tbody tr th {\n",
       "        vertical-align: top;\n",
       "    }\n",
       "\n",
       "    .dataframe thead th {\n",
       "        text-align: right;\n",
       "    }\n",
       "</style>\n",
       "<table border=\"1\" class=\"dataframe\">\n",
       "  <thead>\n",
       "    <tr style=\"text-align: right;\">\n",
       "      <th></th>\n",
       "      <th>age</th>\n",
       "      <th>hypertension</th>\n",
       "      <th>heart_disease</th>\n",
       "      <th>smoking_history</th>\n",
       "      <th>bmi</th>\n",
       "      <th>HbA1c_level</th>\n",
       "      <th>blood_glucose_level</th>\n",
       "      <th>diabetes</th>\n",
       "    </tr>\n",
       "    <tr>\n",
       "      <th>gender</th>\n",
       "      <th></th>\n",
       "      <th></th>\n",
       "      <th></th>\n",
       "      <th></th>\n",
       "      <th></th>\n",
       "      <th></th>\n",
       "      <th></th>\n",
       "      <th></th>\n",
       "    </tr>\n",
       "  </thead>\n",
       "  <tbody>\n",
       "    <tr>\n",
       "      <th>Female</th>\n",
       "      <td>80.0</td>\n",
       "      <td>0</td>\n",
       "      <td>1</td>\n",
       "      <td>never</td>\n",
       "      <td>25.19</td>\n",
       "      <td>6.6</td>\n",
       "      <td>140</td>\n",
       "      <td>0</td>\n",
       "    </tr>\n",
       "    <tr>\n",
       "      <th>Female</th>\n",
       "      <td>54.0</td>\n",
       "      <td>0</td>\n",
       "      <td>0</td>\n",
       "      <td>No Info</td>\n",
       "      <td>27.32</td>\n",
       "      <td>6.6</td>\n",
       "      <td>80</td>\n",
       "      <td>0</td>\n",
       "    </tr>\n",
       "    <tr>\n",
       "      <th>Male</th>\n",
       "      <td>28.0</td>\n",
       "      <td>0</td>\n",
       "      <td>0</td>\n",
       "      <td>never</td>\n",
       "      <td>27.32</td>\n",
       "      <td>5.7</td>\n",
       "      <td>158</td>\n",
       "      <td>0</td>\n",
       "    </tr>\n",
       "    <tr>\n",
       "      <th>Female</th>\n",
       "      <td>36.0</td>\n",
       "      <td>0</td>\n",
       "      <td>0</td>\n",
       "      <td>current</td>\n",
       "      <td>23.45</td>\n",
       "      <td>5.0</td>\n",
       "      <td>155</td>\n",
       "      <td>0</td>\n",
       "    </tr>\n",
       "    <tr>\n",
       "      <th>Male</th>\n",
       "      <td>76.0</td>\n",
       "      <td>1</td>\n",
       "      <td>1</td>\n",
       "      <td>current</td>\n",
       "      <td>20.14</td>\n",
       "      <td>4.8</td>\n",
       "      <td>155</td>\n",
       "      <td>0</td>\n",
       "    </tr>\n",
       "    <tr>\n",
       "      <th>...</th>\n",
       "      <td>...</td>\n",
       "      <td>...</td>\n",
       "      <td>...</td>\n",
       "      <td>...</td>\n",
       "      <td>...</td>\n",
       "      <td>...</td>\n",
       "      <td>...</td>\n",
       "      <td>...</td>\n",
       "    </tr>\n",
       "    <tr>\n",
       "      <th>Female</th>\n",
       "      <td>80.0</td>\n",
       "      <td>0</td>\n",
       "      <td>0</td>\n",
       "      <td>No Info</td>\n",
       "      <td>27.32</td>\n",
       "      <td>6.2</td>\n",
       "      <td>90</td>\n",
       "      <td>0</td>\n",
       "    </tr>\n",
       "    <tr>\n",
       "      <th>Female</th>\n",
       "      <td>2.0</td>\n",
       "      <td>0</td>\n",
       "      <td>0</td>\n",
       "      <td>No Info</td>\n",
       "      <td>17.37</td>\n",
       "      <td>6.5</td>\n",
       "      <td>100</td>\n",
       "      <td>0</td>\n",
       "    </tr>\n",
       "    <tr>\n",
       "      <th>Male</th>\n",
       "      <td>66.0</td>\n",
       "      <td>0</td>\n",
       "      <td>0</td>\n",
       "      <td>former</td>\n",
       "      <td>27.83</td>\n",
       "      <td>5.7</td>\n",
       "      <td>155</td>\n",
       "      <td>0</td>\n",
       "    </tr>\n",
       "    <tr>\n",
       "      <th>Female</th>\n",
       "      <td>24.0</td>\n",
       "      <td>0</td>\n",
       "      <td>0</td>\n",
       "      <td>never</td>\n",
       "      <td>35.42</td>\n",
       "      <td>4.0</td>\n",
       "      <td>100</td>\n",
       "      <td>0</td>\n",
       "    </tr>\n",
       "    <tr>\n",
       "      <th>Female</th>\n",
       "      <td>57.0</td>\n",
       "      <td>0</td>\n",
       "      <td>0</td>\n",
       "      <td>current</td>\n",
       "      <td>22.43</td>\n",
       "      <td>6.6</td>\n",
       "      <td>90</td>\n",
       "      <td>0</td>\n",
       "    </tr>\n",
       "  </tbody>\n",
       "</table>\n",
       "<p>100000 rows \u00d7 8 columns</p>\n",
       "</div>"
      ],
      "text/plain": [
       "         age  hypertension  heart_disease smoking_history    bmi  HbA1c_level  \\\n",
       "gender                                                                          \n",
       "Female  80.0             0              1           never  25.19          6.6   \n",
       "Female  54.0             0              0         No Info  27.32          6.6   \n",
       "Male    28.0             0              0           never  27.32          5.7   \n",
       "Female  36.0             0              0         current  23.45          5.0   \n",
       "Male    76.0             1              1         current  20.14          4.8   \n",
       "...      ...           ...            ...             ...    ...          ...   \n",
       "Female  80.0             0              0         No Info  27.32          6.2   \n",
       "Female   2.0             0              0         No Info  17.37          6.5   \n",
       "Male    66.0             0              0          former  27.83          5.7   \n",
       "Female  24.0             0              0           never  35.42          4.0   \n",
       "Female  57.0             0              0         current  22.43          6.6   \n",
       "\n",
       "        blood_glucose_level  diabetes  \n",
       "gender                                 \n",
       "Female                  140         0  \n",
       "Female                   80         0  \n",
       "Male                    158         0  \n",
       "Female                  155         0  \n",
       "Male                    155         0  \n",
       "...                     ...       ...  \n",
       "Female                   90         0  \n",
       "Female                  100         0  \n",
       "Male                    155         0  \n",
       "Female                  100         0  \n",
       "Female                   90         0  \n",
       "\n",
       "[100000 rows x 8 columns]"
      ]
     },
     "execution_count": 18,
     "metadata": {},
     "output_type": "execute_result"
    }
   ],
   "source": [
    "## Loading the dataset into pandas dataframe\n",
    "d_frame=pd.read_csv('diabetes_dataset.csv', index_col=0)\n",
    "d_frame"
   ]
  },
  {
   "cell_type": "code",
   "execution_count": 19,
   "metadata": {},
   "outputs": [
    {
     "data": {
      "text/plain": [
       "(100000, 8)"
      ]
     },
     "execution_count": 19,
     "metadata": {},
     "output_type": "execute_result"
    }
   ],
   "source": [
    "## Number of rows and columns in the dataset\n",
    "\n",
    "d_frame.shape"
   ]
  },
  {
   "cell_type": "code",
   "execution_count": 20,
   "metadata": {},
   "outputs": [
    {
     "data": {
      "text/plain": [
       "Index(['age', 'hypertension', 'heart_disease', 'smoking_history', 'bmi',\n",
       "       'HbA1c_level', 'blood_glucose_level', 'diabetes'],\n",
       "      dtype='object')"
      ]
     },
     "execution_count": 20,
     "metadata": {},
     "output_type": "execute_result"
    }
   ],
   "source": [
    "df = d_frame.copy()\n",
    "df.columns"
   ]
  },
  {
   "cell_type": "markdown",
   "metadata": {},
   "source": [
    "# Exploratory data analysis\n",
    "Getting to know the data\n",
    "\n",
    "Data Processing (Missing values)\n",
    "\n",
    "Cross Tables and data visualisation"
   ]
  },
  {
   "cell_type": "code",
   "execution_count": 21,
   "metadata": {},
   "outputs": [
    {
     "name": "stdout",
     "output_type": "stream",
     "text": [
      "<class 'pandas.core.frame.DataFrame'>\n",
      "Index: 100000 entries, Female to Female\n",
      "Data columns (total 8 columns):\n",
      " #   Column               Non-Null Count   Dtype  \n",
      "---  ------               --------------   -----  \n",
      " 0   age                  100000 non-null  float64\n",
      " 1   hypertension         100000 non-null  int64  \n",
      " 2   heart_disease        100000 non-null  int64  \n",
      " 3   smoking_history      100000 non-null  object \n",
      " 4   bmi                  100000 non-null  float64\n",
      " 5   HbA1c_level          100000 non-null  float64\n",
      " 6   blood_glucose_level  100000 non-null  int64  \n",
      " 7   diabetes             100000 non-null  int64  \n",
      "dtypes: float64(3), int64(4), object(1)\n",
      "memory usage: 6.9+ MB\n"
     ]
    }
   ],
   "source": [
    "df.info()\n"
   ]
  },
  {
   "cell_type": "code",
   "execution_count": 22,
   "metadata": {},
   "outputs": [
    {
     "data": {
      "text/plain": [
       "age                    0\n",
       "hypertension           0\n",
       "heart_disease          0\n",
       "smoking_history        0\n",
       "bmi                    0\n",
       "HbA1c_level            0\n",
       "blood_glucose_level    0\n",
       "diabetes               0\n",
       "dtype: int64"
      ]
     },
     "execution_count": 22,
     "metadata": {},
     "output_type": "execute_result"
    }
   ],
   "source": [
    "## Hnandling missing values\n",
    "df.isna().sum()"
   ]
  },
  {
   "cell_type": "code",
   "execution_count": 23,
   "metadata": {},
   "outputs": [
    {
     "data": {
      "text/html": [
       "<div>\n",
       "<style scoped>\n",
       "    .dataframe tbody tr th:only-of-type {\n",
       "        vertical-align: middle;\n",
       "    }\n",
       "\n",
       "    .dataframe tbody tr th {\n",
       "        vertical-align: top;\n",
       "    }\n",
       "\n",
       "    .dataframe thead th {\n",
       "        text-align: right;\n",
       "    }\n",
       "</style>\n",
       "<table border=\"1\" class=\"dataframe\">\n",
       "  <thead>\n",
       "    <tr style=\"text-align: right;\">\n",
       "      <th></th>\n",
       "      <th>age</th>\n",
       "      <th>hypertension</th>\n",
       "      <th>heart_disease</th>\n",
       "      <th>bmi</th>\n",
       "      <th>HbA1c_level</th>\n",
       "      <th>blood_glucose_level</th>\n",
       "      <th>diabetes</th>\n",
       "    </tr>\n",
       "  </thead>\n",
       "  <tbody>\n",
       "    <tr>\n",
       "      <th>count</th>\n",
       "      <td>100000.000000</td>\n",
       "      <td>100000.00000</td>\n",
       "      <td>100000.000000</td>\n",
       "      <td>100000.000000</td>\n",
       "      <td>100000.000000</td>\n",
       "      <td>100000.000000</td>\n",
       "      <td>100000.000000</td>\n",
       "    </tr>\n",
       "    <tr>\n",
       "      <th>mean</th>\n",
       "      <td>41.885856</td>\n",
       "      <td>0.07485</td>\n",
       "      <td>0.039420</td>\n",
       "      <td>27.320767</td>\n",
       "      <td>5.527507</td>\n",
       "      <td>138.058060</td>\n",
       "      <td>0.085000</td>\n",
       "    </tr>\n",
       "    <tr>\n",
       "      <th>std</th>\n",
       "      <td>22.516840</td>\n",
       "      <td>0.26315</td>\n",
       "      <td>0.194593</td>\n",
       "      <td>6.636783</td>\n",
       "      <td>1.070672</td>\n",
       "      <td>40.708136</td>\n",
       "      <td>0.278883</td>\n",
       "    </tr>\n",
       "    <tr>\n",
       "      <th>min</th>\n",
       "      <td>0.080000</td>\n",
       "      <td>0.00000</td>\n",
       "      <td>0.000000</td>\n",
       "      <td>10.010000</td>\n",
       "      <td>3.500000</td>\n",
       "      <td>80.000000</td>\n",
       "      <td>0.000000</td>\n",
       "    </tr>\n",
       "    <tr>\n",
       "      <th>25%</th>\n",
       "      <td>24.000000</td>\n",
       "      <td>0.00000</td>\n",
       "      <td>0.000000</td>\n",
       "      <td>23.630000</td>\n",
       "      <td>4.800000</td>\n",
       "      <td>100.000000</td>\n",
       "      <td>0.000000</td>\n",
       "    </tr>\n",
       "    <tr>\n",
       "      <th>50%</th>\n",
       "      <td>43.000000</td>\n",
       "      <td>0.00000</td>\n",
       "      <td>0.000000</td>\n",
       "      <td>27.320000</td>\n",
       "      <td>5.800000</td>\n",
       "      <td>140.000000</td>\n",
       "      <td>0.000000</td>\n",
       "    </tr>\n",
       "    <tr>\n",
       "      <th>75%</th>\n",
       "      <td>60.000000</td>\n",
       "      <td>0.00000</td>\n",
       "      <td>0.000000</td>\n",
       "      <td>29.580000</td>\n",
       "      <td>6.200000</td>\n",
       "      <td>159.000000</td>\n",
       "      <td>0.000000</td>\n",
       "    </tr>\n",
       "    <tr>\n",
       "      <th>max</th>\n",
       "      <td>80.000000</td>\n",
       "      <td>1.00000</td>\n",
       "      <td>1.000000</td>\n",
       "      <td>95.690000</td>\n",
       "      <td>9.000000</td>\n",
       "      <td>300.000000</td>\n",
       "      <td>1.000000</td>\n",
       "    </tr>\n",
       "  </tbody>\n",
       "</table>\n",
       "</div>"
      ],
      "text/plain": [
       "                 age  hypertension  heart_disease            bmi  \\\n",
       "count  100000.000000  100000.00000  100000.000000  100000.000000   \n",
       "mean       41.885856       0.07485       0.039420      27.320767   \n",
       "std        22.516840       0.26315       0.194593       6.636783   \n",
       "min         0.080000       0.00000       0.000000      10.010000   \n",
       "25%        24.000000       0.00000       0.000000      23.630000   \n",
       "50%        43.000000       0.00000       0.000000      27.320000   \n",
       "75%        60.000000       0.00000       0.000000      29.580000   \n",
       "max        80.000000       1.00000       1.000000      95.690000   \n",
       "\n",
       "         HbA1c_level  blood_glucose_level       diabetes  \n",
       "count  100000.000000        100000.000000  100000.000000  \n",
       "mean        5.527507           138.058060       0.085000  \n",
       "std         1.070672            40.708136       0.278883  \n",
       "min         3.500000            80.000000       0.000000  \n",
       "25%         4.800000           100.000000       0.000000  \n",
       "50%         5.800000           140.000000       0.000000  \n",
       "75%         6.200000           159.000000       0.000000  \n",
       "max         9.000000           300.000000       1.000000  "
      ]
     },
     "execution_count": 23,
     "metadata": {},
     "output_type": "execute_result"
    }
   ],
   "source": [
    "df.describe()  # Dispalying numerical data"
   ]
  },
  {
   "cell_type": "code",
   "execution_count": 24,
   "metadata": {},
   "outputs": [
    {
     "data": {
      "text/html": [
       "<div>\n",
       "<style scoped>\n",
       "    .dataframe tbody tr th:only-of-type {\n",
       "        vertical-align: middle;\n",
       "    }\n",
       "\n",
       "    .dataframe tbody tr th {\n",
       "        vertical-align: top;\n",
       "    }\n",
       "\n",
       "    .dataframe thead th {\n",
       "        text-align: right;\n",
       "    }\n",
       "</style>\n",
       "<table border=\"1\" class=\"dataframe\">\n",
       "  <thead>\n",
       "    <tr style=\"text-align: right;\">\n",
       "      <th></th>\n",
       "      <th>smoking_history</th>\n",
       "    </tr>\n",
       "  </thead>\n",
       "  <tbody>\n",
       "    <tr>\n",
       "      <th>count</th>\n",
       "      <td>100000</td>\n",
       "    </tr>\n",
       "    <tr>\n",
       "      <th>unique</th>\n",
       "      <td>6</td>\n",
       "    </tr>\n",
       "    <tr>\n",
       "      <th>top</th>\n",
       "      <td>No Info</td>\n",
       "    </tr>\n",
       "    <tr>\n",
       "      <th>freq</th>\n",
       "      <td>35816</td>\n",
       "    </tr>\n",
       "  </tbody>\n",
       "</table>\n",
       "</div>"
      ],
      "text/plain": [
       "       smoking_history\n",
       "count           100000\n",
       "unique               6\n",
       "top            No Info\n",
       "freq             35816"
      ]
     },
     "execution_count": 24,
     "metadata": {},
     "output_type": "execute_result"
    }
   ],
   "source": [
    "df.describe(include='O') # Printing categorical variables ie non-numerical variables"
   ]
  },
  {
   "cell_type": "code",
   "execution_count": 25,
   "metadata": {},
   "outputs": [
    {
     "data": {
      "text/html": [
       "<div>\n",
       "<style scoped>\n",
       "    .dataframe tbody tr th:only-of-type {\n",
       "        vertical-align: middle;\n",
       "    }\n",
       "\n",
       "    .dataframe tbody tr th {\n",
       "        vertical-align: top;\n",
       "    }\n",
       "\n",
       "    .dataframe thead th {\n",
       "        text-align: right;\n",
       "    }\n",
       "</style>\n",
       "<table border=\"1\" class=\"dataframe\">\n",
       "  <thead>\n",
       "    <tr style=\"text-align: right;\">\n",
       "      <th></th>\n",
       "      <th>age</th>\n",
       "      <th>hypertension</th>\n",
       "      <th>heart_disease</th>\n",
       "      <th>bmi</th>\n",
       "      <th>HbA1c_level</th>\n",
       "      <th>blood_glucose_level</th>\n",
       "      <th>diabetes</th>\n",
       "      <th>smoking_history_No Info</th>\n",
       "      <th>smoking_history_current</th>\n",
       "      <th>smoking_history_ever</th>\n",
       "      <th>smoking_history_former</th>\n",
       "      <th>smoking_history_never</th>\n",
       "      <th>smoking_history_not current</th>\n",
       "    </tr>\n",
       "    <tr>\n",
       "      <th>gender</th>\n",
       "      <th></th>\n",
       "      <th></th>\n",
       "      <th></th>\n",
       "      <th></th>\n",
       "      <th></th>\n",
       "      <th></th>\n",
       "      <th></th>\n",
       "      <th></th>\n",
       "      <th></th>\n",
       "      <th></th>\n",
       "      <th></th>\n",
       "      <th></th>\n",
       "      <th></th>\n",
       "    </tr>\n",
       "  </thead>\n",
       "  <tbody>\n",
       "    <tr>\n",
       "      <th>Female</th>\n",
       "      <td>80.0</td>\n",
       "      <td>0</td>\n",
       "      <td>1</td>\n",
       "      <td>25.19</td>\n",
       "      <td>6.6</td>\n",
       "      <td>140</td>\n",
       "      <td>0</td>\n",
       "      <td>0</td>\n",
       "      <td>0</td>\n",
       "      <td>0</td>\n",
       "      <td>0</td>\n",
       "      <td>1</td>\n",
       "      <td>0</td>\n",
       "    </tr>\n",
       "    <tr>\n",
       "      <th>Female</th>\n",
       "      <td>54.0</td>\n",
       "      <td>0</td>\n",
       "      <td>0</td>\n",
       "      <td>27.32</td>\n",
       "      <td>6.6</td>\n",
       "      <td>80</td>\n",
       "      <td>0</td>\n",
       "      <td>1</td>\n",
       "      <td>0</td>\n",
       "      <td>0</td>\n",
       "      <td>0</td>\n",
       "      <td>0</td>\n",
       "      <td>0</td>\n",
       "    </tr>\n",
       "    <tr>\n",
       "      <th>Male</th>\n",
       "      <td>28.0</td>\n",
       "      <td>0</td>\n",
       "      <td>0</td>\n",
       "      <td>27.32</td>\n",
       "      <td>5.7</td>\n",
       "      <td>158</td>\n",
       "      <td>0</td>\n",
       "      <td>0</td>\n",
       "      <td>0</td>\n",
       "      <td>0</td>\n",
       "      <td>0</td>\n",
       "      <td>1</td>\n",
       "      <td>0</td>\n",
       "    </tr>\n",
       "    <tr>\n",
       "      <th>Female</th>\n",
       "      <td>36.0</td>\n",
       "      <td>0</td>\n",
       "      <td>0</td>\n",
       "      <td>23.45</td>\n",
       "      <td>5.0</td>\n",
       "      <td>155</td>\n",
       "      <td>0</td>\n",
       "      <td>0</td>\n",
       "      <td>1</td>\n",
       "      <td>0</td>\n",
       "      <td>0</td>\n",
       "      <td>0</td>\n",
       "      <td>0</td>\n",
       "    </tr>\n",
       "    <tr>\n",
       "      <th>Male</th>\n",
       "      <td>76.0</td>\n",
       "      <td>1</td>\n",
       "      <td>1</td>\n",
       "      <td>20.14</td>\n",
       "      <td>4.8</td>\n",
       "      <td>155</td>\n",
       "      <td>0</td>\n",
       "      <td>0</td>\n",
       "      <td>1</td>\n",
       "      <td>0</td>\n",
       "      <td>0</td>\n",
       "      <td>0</td>\n",
       "      <td>0</td>\n",
       "    </tr>\n",
       "  </tbody>\n",
       "</table>\n",
       "</div>"
      ],
      "text/plain": [
       "         age  hypertension  heart_disease    bmi  HbA1c_level  \\\n",
       "gender                                                          \n",
       "Female  80.0             0              1  25.19          6.6   \n",
       "Female  54.0             0              0  27.32          6.6   \n",
       "Male    28.0             0              0  27.32          5.7   \n",
       "Female  36.0             0              0  23.45          5.0   \n",
       "Male    76.0             1              1  20.14          4.8   \n",
       "\n",
       "        blood_glucose_level  diabetes  smoking_history_No Info  \\\n",
       "gender                                                           \n",
       "Female                  140         0                        0   \n",
       "Female                   80         0                        1   \n",
       "Male                    158         0                        0   \n",
       "Female                  155         0                        0   \n",
       "Male                    155         0                        0   \n",
       "\n",
       "        smoking_history_current  smoking_history_ever  smoking_history_former  \\\n",
       "gender                                                                          \n",
       "Female                        0                     0                       0   \n",
       "Female                        0                     0                       0   \n",
       "Male                          0                     0                       0   \n",
       "Female                        1                     0                       0   \n",
       "Male                          1                     0                       0   \n",
       "\n",
       "        smoking_history_never  smoking_history_not current  \n",
       "gender                                                      \n",
       "Female                      1                            0  \n",
       "Female                      0                            0  \n",
       "Male                        1                            0  \n",
       "Female                      0                            0  \n",
       "Male                        0                            0  "
      ]
     },
     "execution_count": 25,
     "metadata": {},
     "output_type": "execute_result"
    }
   ],
   "source": [
    "## Encoding categorical variables\n",
    "from sklearn.preprocessing import LabelEncoder\n",
    "# Only encode if not already encoded\n",
    "if 'smoking_history' in df.columns:\n",
    "    df = pd.get_dummies(df, columns=['smoking_history'])\n",
    "df.head()    "
   ]
  },
  {
   "cell_type": "code",
   "execution_count": 26,
   "metadata": {},
   "outputs": [],
   "source": [
    "## dropping null values\n",
    "df=df.dropna(how='any')\n"
   ]
  },
  {
   "cell_type": "code",
   "execution_count": 27,
   "metadata": {},
   "outputs": [
    {
     "data": {
      "text/plain": [
       "age                            0\n",
       "hypertension                   0\n",
       "heart_disease                  0\n",
       "bmi                            0\n",
       "HbA1c_level                    0\n",
       "blood_glucose_level            0\n",
       "diabetes                       0\n",
       "smoking_history_No Info        0\n",
       "smoking_history_current        0\n",
       "smoking_history_ever           0\n",
       "smoking_history_former         0\n",
       "smoking_history_never          0\n",
       "smoking_history_not current    0\n",
       "dtype: int64"
      ]
     },
     "execution_count": 27,
     "metadata": {},
     "output_type": "execute_result"
    }
   ],
   "source": [
    "df.isna().sum()"
   ]
  },
  {
   "cell_type": "code",
   "execution_count": 28,
   "metadata": {},
   "outputs": [
    {
     "data": {
      "text/html": [
       "<div>\n",
       "<style scoped>\n",
       "    .dataframe tbody tr th:only-of-type {\n",
       "        vertical-align: middle;\n",
       "    }\n",
       "\n",
       "    .dataframe tbody tr th {\n",
       "        vertical-align: top;\n",
       "    }\n",
       "\n",
       "    .dataframe thead th {\n",
       "        text-align: right;\n",
       "    }\n",
       "</style>\n",
       "<table border=\"1\" class=\"dataframe\">\n",
       "  <thead>\n",
       "    <tr style=\"text-align: right;\">\n",
       "      <th></th>\n",
       "      <th>age</th>\n",
       "      <th>hypertension</th>\n",
       "      <th>heart_disease</th>\n",
       "      <th>bmi</th>\n",
       "      <th>HbA1c_level</th>\n",
       "      <th>blood_glucose_level</th>\n",
       "      <th>diabetes</th>\n",
       "      <th>smoking_history_No Info</th>\n",
       "      <th>smoking_history_current</th>\n",
       "      <th>smoking_history_ever</th>\n",
       "      <th>smoking_history_former</th>\n",
       "      <th>smoking_history_never</th>\n",
       "      <th>smoking_history_not current</th>\n",
       "    </tr>\n",
       "  </thead>\n",
       "  <tbody>\n",
       "    <tr>\n",
       "      <th>age</th>\n",
       "      <td>1.000000</td>\n",
       "      <td>0.251171</td>\n",
       "      <td>0.233354</td>\n",
       "      <td>0.337396</td>\n",
       "      <td>0.101354</td>\n",
       "      <td>0.110672</td>\n",
       "      <td>0.258008</td>\n",
       "      <td>-0.276945</td>\n",
       "      <td>0.030946</td>\n",
       "      <td>0.065768</td>\n",
       "      <td>0.216481</td>\n",
       "      <td>0.065498</td>\n",
       "      <td>0.067663</td>\n",
       "    </tr>\n",
       "    <tr>\n",
       "      <th>hypertension</th>\n",
       "      <td>0.251171</td>\n",
       "      <td>1.000000</td>\n",
       "      <td>0.121262</td>\n",
       "      <td>0.147666</td>\n",
       "      <td>0.080939</td>\n",
       "      <td>0.084429</td>\n",
       "      <td>0.197823</td>\n",
       "      <td>-0.117210</td>\n",
       "      <td>0.017930</td>\n",
       "      <td>0.023124</td>\n",
       "      <td>0.083401</td>\n",
       "      <td>0.045953</td>\n",
       "      <td>0.000997</td>\n",
       "    </tr>\n",
       "    <tr>\n",
       "      <th>heart_disease</th>\n",
       "      <td>0.233354</td>\n",
       "      <td>0.121262</td>\n",
       "      <td>1.000000</td>\n",
       "      <td>0.061198</td>\n",
       "      <td>0.067589</td>\n",
       "      <td>0.070066</td>\n",
       "      <td>0.171727</td>\n",
       "      <td>-0.052398</td>\n",
       "      <td>0.007604</td>\n",
       "      <td>0.040671</td>\n",
       "      <td>0.095194</td>\n",
       "      <td>-0.030843</td>\n",
       "      <td>0.007922</td>\n",
       "    </tr>\n",
       "    <tr>\n",
       "      <th>bmi</th>\n",
       "      <td>0.337396</td>\n",
       "      <td>0.147666</td>\n",
       "      <td>0.061198</td>\n",
       "      <td>1.000000</td>\n",
       "      <td>0.082997</td>\n",
       "      <td>0.091261</td>\n",
       "      <td>0.214357</td>\n",
       "      <td>-0.222553</td>\n",
       "      <td>0.053617</td>\n",
       "      <td>0.044343</td>\n",
       "      <td>0.111312</td>\n",
       "      <td>0.086849</td>\n",
       "      <td>0.034979</td>\n",
       "    </tr>\n",
       "    <tr>\n",
       "      <th>HbA1c_level</th>\n",
       "      <td>0.101354</td>\n",
       "      <td>0.080939</td>\n",
       "      <td>0.067589</td>\n",
       "      <td>0.082997</td>\n",
       "      <td>1.000000</td>\n",
       "      <td>0.166733</td>\n",
       "      <td>0.400660</td>\n",
       "      <td>-0.045979</td>\n",
       "      <td>0.006123</td>\n",
       "      <td>0.009655</td>\n",
       "      <td>0.037306</td>\n",
       "      <td>0.010684</td>\n",
       "      <td>0.009830</td>\n",
       "    </tr>\n",
       "    <tr>\n",
       "      <th>blood_glucose_level</th>\n",
       "      <td>0.110672</td>\n",
       "      <td>0.084429</td>\n",
       "      <td>0.070066</td>\n",
       "      <td>0.091261</td>\n",
       "      <td>0.166733</td>\n",
       "      <td>1.000000</td>\n",
       "      <td>0.419558</td>\n",
       "      <td>-0.051635</td>\n",
       "      <td>0.012447</td>\n",
       "      <td>0.006267</td>\n",
       "      <td>0.040688</td>\n",
       "      <td>0.012475</td>\n",
       "      <td>0.008613</td>\n",
       "    </tr>\n",
       "    <tr>\n",
       "      <th>diabetes</th>\n",
       "      <td>0.258008</td>\n",
       "      <td>0.197823</td>\n",
       "      <td>0.171727</td>\n",
       "      <td>0.214357</td>\n",
       "      <td>0.400660</td>\n",
       "      <td>0.419558</td>\n",
       "      <td>1.000000</td>\n",
       "      <td>-0.118939</td>\n",
       "      <td>0.019606</td>\n",
       "      <td>0.024080</td>\n",
       "      <td>0.097917</td>\n",
       "      <td>0.027267</td>\n",
       "      <td>0.020734</td>\n",
       "    </tr>\n",
       "    <tr>\n",
       "      <th>smoking_history_No Info</th>\n",
       "      <td>-0.276945</td>\n",
       "      <td>-0.117210</td>\n",
       "      <td>-0.052398</td>\n",
       "      <td>-0.222553</td>\n",
       "      <td>-0.045979</td>\n",
       "      <td>-0.051635</td>\n",
       "      <td>-0.118939</td>\n",
       "      <td>1.000000</td>\n",
       "      <td>-0.239002</td>\n",
       "      <td>-0.152562</td>\n",
       "      <td>-0.239938</td>\n",
       "      <td>-0.549299</td>\n",
       "      <td>-0.196099</td>\n",
       "    </tr>\n",
       "    <tr>\n",
       "      <th>smoking_history_current</th>\n",
       "      <td>0.030946</td>\n",
       "      <td>0.017930</td>\n",
       "      <td>0.007604</td>\n",
       "      <td>0.053617</td>\n",
       "      <td>0.006123</td>\n",
       "      <td>0.012447</td>\n",
       "      <td>0.019606</td>\n",
       "      <td>-0.239002</td>\n",
       "      <td>1.000000</td>\n",
       "      <td>-0.065343</td>\n",
       "      <td>-0.102766</td>\n",
       "      <td>-0.235267</td>\n",
       "      <td>-0.083990</td>\n",
       "    </tr>\n",
       "    <tr>\n",
       "      <th>smoking_history_ever</th>\n",
       "      <td>0.065768</td>\n",
       "      <td>0.023124</td>\n",
       "      <td>0.040671</td>\n",
       "      <td>0.044343</td>\n",
       "      <td>0.009655</td>\n",
       "      <td>0.006267</td>\n",
       "      <td>0.024080</td>\n",
       "      <td>-0.152562</td>\n",
       "      <td>-0.065343</td>\n",
       "      <td>1.000000</td>\n",
       "      <td>-0.065598</td>\n",
       "      <td>-0.150177</td>\n",
       "      <td>-0.053613</td>\n",
       "    </tr>\n",
       "    <tr>\n",
       "      <th>smoking_history_former</th>\n",
       "      <td>0.216481</td>\n",
       "      <td>0.083401</td>\n",
       "      <td>0.095194</td>\n",
       "      <td>0.111312</td>\n",
       "      <td>0.037306</td>\n",
       "      <td>0.040688</td>\n",
       "      <td>0.097917</td>\n",
       "      <td>-0.239938</td>\n",
       "      <td>-0.102766</td>\n",
       "      <td>-0.065598</td>\n",
       "      <td>1.000000</td>\n",
       "      <td>-0.236187</td>\n",
       "      <td>-0.084319</td>\n",
       "    </tr>\n",
       "    <tr>\n",
       "      <th>smoking_history_never</th>\n",
       "      <td>0.065498</td>\n",
       "      <td>0.045953</td>\n",
       "      <td>-0.030843</td>\n",
       "      <td>0.086849</td>\n",
       "      <td>0.010684</td>\n",
       "      <td>0.012475</td>\n",
       "      <td>0.027267</td>\n",
       "      <td>-0.549299</td>\n",
       "      <td>-0.235267</td>\n",
       "      <td>-0.150177</td>\n",
       "      <td>-0.236187</td>\n",
       "      <td>1.000000</td>\n",
       "      <td>-0.193034</td>\n",
       "    </tr>\n",
       "    <tr>\n",
       "      <th>smoking_history_not current</th>\n",
       "      <td>0.067663</td>\n",
       "      <td>0.000997</td>\n",
       "      <td>0.007922</td>\n",
       "      <td>0.034979</td>\n",
       "      <td>0.009830</td>\n",
       "      <td>0.008613</td>\n",
       "      <td>0.020734</td>\n",
       "      <td>-0.196099</td>\n",
       "      <td>-0.083990</td>\n",
       "      <td>-0.053613</td>\n",
       "      <td>-0.084319</td>\n",
       "      <td>-0.193034</td>\n",
       "      <td>1.000000</td>\n",
       "    </tr>\n",
       "  </tbody>\n",
       "</table>\n",
       "</div>"
      ],
      "text/plain": [
       "                                  age  hypertension  heart_disease       bmi  \\\n",
       "age                          1.000000      0.251171       0.233354  0.337396   \n",
       "hypertension                 0.251171      1.000000       0.121262  0.147666   \n",
       "heart_disease                0.233354      0.121262       1.000000  0.061198   \n",
       "bmi                          0.337396      0.147666       0.061198  1.000000   \n",
       "HbA1c_level                  0.101354      0.080939       0.067589  0.082997   \n",
       "blood_glucose_level          0.110672      0.084429       0.070066  0.091261   \n",
       "diabetes                     0.258008      0.197823       0.171727  0.214357   \n",
       "smoking_history_No Info     -0.276945     -0.117210      -0.052398 -0.222553   \n",
       "smoking_history_current      0.030946      0.017930       0.007604  0.053617   \n",
       "smoking_history_ever         0.065768      0.023124       0.040671  0.044343   \n",
       "smoking_history_former       0.216481      0.083401       0.095194  0.111312   \n",
       "smoking_history_never        0.065498      0.045953      -0.030843  0.086849   \n",
       "smoking_history_not current  0.067663      0.000997       0.007922  0.034979   \n",
       "\n",
       "                             HbA1c_level  blood_glucose_level  diabetes  \\\n",
       "age                             0.101354             0.110672  0.258008   \n",
       "hypertension                    0.080939             0.084429  0.197823   \n",
       "heart_disease                   0.067589             0.070066  0.171727   \n",
       "bmi                             0.082997             0.091261  0.214357   \n",
       "HbA1c_level                     1.000000             0.166733  0.400660   \n",
       "blood_glucose_level             0.166733             1.000000  0.419558   \n",
       "diabetes                        0.400660             0.419558  1.000000   \n",
       "smoking_history_No Info        -0.045979            -0.051635 -0.118939   \n",
       "smoking_history_current         0.006123             0.012447  0.019606   \n",
       "smoking_history_ever            0.009655             0.006267  0.024080   \n",
       "smoking_history_former          0.037306             0.040688  0.097917   \n",
       "smoking_history_never           0.010684             0.012475  0.027267   \n",
       "smoking_history_not current     0.009830             0.008613  0.020734   \n",
       "\n",
       "                             smoking_history_No Info  smoking_history_current  \\\n",
       "age                                        -0.276945                 0.030946   \n",
       "hypertension                               -0.117210                 0.017930   \n",
       "heart_disease                              -0.052398                 0.007604   \n",
       "bmi                                        -0.222553                 0.053617   \n",
       "HbA1c_level                                -0.045979                 0.006123   \n",
       "blood_glucose_level                        -0.051635                 0.012447   \n",
       "diabetes                                   -0.118939                 0.019606   \n",
       "smoking_history_No Info                     1.000000                -0.239002   \n",
       "smoking_history_current                    -0.239002                 1.000000   \n",
       "smoking_history_ever                       -0.152562                -0.065343   \n",
       "smoking_history_former                     -0.239938                -0.102766   \n",
       "smoking_history_never                      -0.549299                -0.235267   \n",
       "smoking_history_not current                -0.196099                -0.083990   \n",
       "\n",
       "                             smoking_history_ever  smoking_history_former  \\\n",
       "age                                      0.065768                0.216481   \n",
       "hypertension                             0.023124                0.083401   \n",
       "heart_disease                            0.040671                0.095194   \n",
       "bmi                                      0.044343                0.111312   \n",
       "HbA1c_level                              0.009655                0.037306   \n",
       "blood_glucose_level                      0.006267                0.040688   \n",
       "diabetes                                 0.024080                0.097917   \n",
       "smoking_history_No Info                 -0.152562               -0.239938   \n",
       "smoking_history_current                 -0.065343               -0.102766   \n",
       "smoking_history_ever                     1.000000               -0.065598   \n",
       "smoking_history_former                  -0.065598                1.000000   \n",
       "smoking_history_never                   -0.150177               -0.236187   \n",
       "smoking_history_not current             -0.053613               -0.084319   \n",
       "\n",
       "                             smoking_history_never  \\\n",
       "age                                       0.065498   \n",
       "hypertension                              0.045953   \n",
       "heart_disease                            -0.030843   \n",
       "bmi                                       0.086849   \n",
       "HbA1c_level                               0.010684   \n",
       "blood_glucose_level                       0.012475   \n",
       "diabetes                                  0.027267   \n",
       "smoking_history_No Info                  -0.549299   \n",
       "smoking_history_current                  -0.235267   \n",
       "smoking_history_ever                     -0.150177   \n",
       "smoking_history_former                   -0.236187   \n",
       "smoking_history_never                     1.000000   \n",
       "smoking_history_not current              -0.193034   \n",
       "\n",
       "                             smoking_history_not current  \n",
       "age                                             0.067663  \n",
       "hypertension                                    0.000997  \n",
       "heart_disease                                   0.007922  \n",
       "bmi                                             0.034979  \n",
       "HbA1c_level                                     0.009830  \n",
       "blood_glucose_level                             0.008613  \n",
       "diabetes                                        0.020734  \n",
       "smoking_history_No Info                        -0.196099  \n",
       "smoking_history_current                        -0.083990  \n",
       "smoking_history_ever                           -0.053613  \n",
       "smoking_history_former                         -0.084319  \n",
       "smoking_history_never                          -0.193034  \n",
       "smoking_history_not current                     1.000000  "
      ]
     },
     "execution_count": 28,
     "metadata": {},
     "output_type": "execute_result"
    }
   ],
   "source": [
    "#relationship between variables\n",
    "corr=df.corr()\n",
    "corr"
   ]
  },
  {
   "cell_type": "code",
   "execution_count": 29,
   "metadata": {},
   "outputs": [
    {
     "data": {
      "image/png": "[encoded data removed]",
      "text/plain": [
       "<Figure size 720x720 with 2 Axes>"
      ]
     },
     "metadata": {
      "needs_background": "light"
     },
     "output_type": "display_data"
    }
   ],
   "source": [
    "\n",
    "plt.figure(figsize=(10,10))\n",
    "sns.heatmap(df.corr(), annot=True, linewidth=0.5,fmt='0.2f')\n",
    "plt.show()"
   ]
  },
  {
   "cell_type": "markdown",
   "metadata": {},
   "source": [
    " # Feature Engineering"
   ]
  },
  {
   "cell_type": "code",
   "execution_count": 30,
   "metadata": {},
   "outputs": [],
   "source": [
    "\n",
    "from sklearn.preprocessing import StandardScaler, LabelEncoder\n",
    "\n",
    "\n",
    "## Splitting the data into features and target variable\n",
    "X = df.drop('diabetes', axis=1)\n",
    "y = df['diabetes']"
   ]
  },
  {
   "cell_type": "code",
   "execution_count": 31,
   "metadata": {},
   "outputs": [
    {
     "name": "stdout",
     "output_type": "stream",
     "text": [
      "(100000, 12) (80000, 12) (20000, 12)\n"
     ]
    }
   ],
   "source": [
    "from sklearn.model_selection import train_test_split\n",
    "\n",
    "# Train and test split\n",
    "X_train, X_test, y_train, y_test = train_test_split(\n",
    "    X, y, test_size=0.2, stratify=y, random_state=42\n",
    ")\n",
    "\n",
    "print(X.shape, X_train.shape, X_test.shape)"
   ]
  },
  {
   "cell_type": "code",
   "execution_count": 32,
   "metadata": {},
   "outputs": [],
   "source": [
    "# Feature Standardization\n",
    "scaler = StandardScaler()\n",
    "X_train_scaled = scaler.fit_transform(X_train)\n",
    "X_test_scaled = scaler.transform(X_test)"
   ]
  },
  {
   "cell_type": "markdown",
   "metadata": {},
   "source": [
    "## Model Development"
   ]
  },
  {
   "cell_type": "code",
   "execution_count": null,
   "metadata": {},
   "outputs": [],
   "source": [
    "# Initializing models\n",
    "from sklearn.ensemble import RandomForestClassifier\n",
    "from sklearn.linear_model import LogisticRegression\n",
    "from sklearn.svm import SVC\n",
    "\n",
    "import seaborn as sns\n",
    "\n",
    "models = {",
    "    \"Random Forest\": RandomForestClassifier(random_state=42),\n",
    "    \"Logistic Regression\": LogisticRegression(max_iter=1000, random_state=42),\n",
    "    \"SVM\": SVC(kernel='linear', probability=True, random_state=42)\n",
    "}\n",
    "\n",
    "rf_clf = RandomForestClassifier(n_estimators=100, random_state=42)\n",
    "lr_clf = LogisticRegression(random_state=42, max_iter=1000)\n",
    "svm_clf = SVC(probability=True, random_state=42)"
   ]
  },
  {
   "cell_type": "markdown",
   "metadata": {},
   "source": [
    "# Hyperparameter tuning "
   ]
  },
  {
   "cell_type": "code",
   "execution_count": null,
   "metadata": {},
   "outputs": [
    {
     "name": "stdout",
     "output_type": "stream",
     "text": [
      "Best params for Random Forest: {'max_depth': 10, 'n_estimators': 100}\n"
     ]
    }
   ],
   "source": [
    "\n",
    "# from sklearn.model_selection import GridSearchCV\n",
    "\n",
    "\n",
    "# # Hyperparameter tuning  for Random Forest\n",
    "\n",
    "# param_grid_rf = {\n",
    "#     'n_estimators': [100, 200],\n",
    "#     'max_depth': [None, 10, 20]\n",
    "# }\n",
    "# grid_search_rf = GridSearchCV(RandomForestClassifier(random_state=42), param_grid_rf, cv=5, scoring='roc_auc')\n",
    "# grid_search_rf.fit(X_train, y_train)\n",
    "# models['Random Forest'] = grid_search_rf.best_estimator_\n",
    "# print(f\"Best params for Random Forest: {grid_search_rf.best_params_}\")\n",
    "\n"
   ]
  },
  {
   "cell_type": "code",
   "execution_count": null,
   "metadata": {},
   "outputs": [
    {
     "name": "stdout",
     "output_type": "stream",
     "text": [
      "Best params for Logistic Regression: {'C': 1}\n"
     ]
    }
   ],
   "source": [
    "\n",
    "# # # Hyperparameter tuning  for Logistic Regression\n",
    "# param_grid_lr = {\n",
    "#     'C': [0.01, 0.1, 1, 10]\n",
    "# }\n",
    "# grid_search_lr = GridSearchCV(LogisticRegression(random_state=42, solver='liblinear'), param_grid_lr, cv=5, scoring='roc_auc')\n",
    "# grid_search_lr.fit(X_train, y_train)\n",
    "# models['Logistic Regression'] = grid_search_lr.best_estimator_\n",
    "# print(f\"Best params for Logistic Regression: {grid_search_lr.best_params_}\")\n",
    "\n"
   ]
  },
  {
   "cell_type": "code",
   "execution_count": null,
   "metadata": {},
   "outputs": [],
   "source": [
    "\n",
    "# # Hyperparameter tuning  for SVM\n",
    "# param_grid_svm = {\n",
    "#     'C': [0.1, 1, 10],\n",
    "#     'kernel': ['linear']\n",
    "# }\n",
    "# grid_search_svm = GridSearchCV(SVC(probability=True, random_state=42), param_grid_svm, cv=5, scoring='roc_auc')\n",
    "# grid_search_svm.fit(X_train, y_train)\n",
    "# models['Support Vector Machine'] = grid_search_svm.best_estimator_\n",
    "# print(f\"Best params for Support Vector Machine: {grid_search_svm.best_params_}\")\n",
    "\n",
    "\n",
    "# Hyperparameter tuning for SVM\n",
    "# param_grid_svm = {\n",
    "#     'C': [0.1, 1, 10],\n",
    "#     'kernel': ['linear'] \n",
    "# }\n",
    "# grid_search_svm = GridSearchCV(SVC(random_state=42), \n",
    "#                               param_grid_svm, cv=3, scoring='roc_auc', \n",
    "#                               n_jobs=-1, verbose=2)\n",
    "# grid_search_svm.fit(X_train, y_train)\n",
    "# models['Support Vector Machine'] = grid_search_svm.best_estimator_\n",
    "# print(f\"Best params for Support Vector Machine: {grid_search_svm.best_params_}\")"
   ]
  },
  {
   "cell_type": "code",
   "execution_count": null,
   "metadata": {},
   "outputs": [],
   "source": [
    "# Creating ensemble model with a VotingClassifier\n",
    "from sklearn.ensemble import VotingClassifier\n",
    "ensemble_clf = VotingClassifier(\n",
    "    estimators=[('rf', rf_clf), ('lr', lr_clf), ('svm', svm_clf)],\n",
    "    voting='soft'\n",
    ")"
   ]
  },
  {
   "cell_type": "code",
   "execution_count": null,
   "metadata": {},
   "outputs": [],
   "source": [
    "# Create the full pipeline\n",
    "from sklearn.pipeline import Pipeline\n",
    "pipeline = Pipeline(steps=[('preprocessor', preprocessor),\n",
    "                            ('classifier', ensemble_clf)])\n"
   ]
  },
  {
   "cell_type": "code",
   "execution_count": null,
   "metadata": {},
   "outputs": [],
   "source": [
    "# Train the model\n",
    "from sklearn.metrics import classification_report, confusion_matrix\n",
    "pipeline.fit(X_train, y_train)\n",
    "\n",
    "# Model Evaluation\n",
    "y_pred = pipeline.predict(X_test)\n",
    "\n",
    "print('Classification Report:')\n",
    "print(classification_report(y_test, y_pred))\n",
    "\n",
    "print('Confusion Matrix:')\n",
    "print(confusion_matrix(y_test, y_pred))\n",
    "\n",
    "# Model Interpretation with SHAP\n",
    "# SHAP requires a function that takes a numpy array and returns predictions\n",
    "# We'll create a wrapper for our pipeline's prediction function\n",
    "def predict_fn(x):\n",
    "    return pipeline.predict_proba(pd.DataFrame(x, columns=X_test.columns))"
   ]
  },
  {
   "cell_type": "code",
   "execution_count": null,
   "metadata": {},
   "outputs": [
    {
     "name": "stdout",
     "output_type": "stream",
     "text": [
      "\n",
      "Random Forest Classification Report:\n",
      "               precision    recall  f1-score   support\n",
      "\n",
      "           0       0.97      1.00      0.99     18300\n",
      "           1       1.00      0.67      0.81      1700\n",
      "\n",
      "    accuracy                           0.97     20000\n",
      "   macro avg       0.99      0.84      0.90     20000\n",
      "weighted avg       0.97      0.97      0.97     20000\n",
      "\n",
      "\n",
      "Logistic Regression Classification Report:\n",
      "               precision    recall  f1-score   support\n",
      "\n",
      "           0       0.97      0.99      0.98     18300\n",
      "           1       0.86      0.64      0.73      1700\n",
      "\n",
      "    accuracy                           0.96     20000\n",
      "   macro avg       0.91      0.81      0.85     20000\n",
      "weighted avg       0.96      0.96      0.96     20000\n",
      "\n"
     ]
    }
   ],
   "source": [
    "from sklearn.metrics import accuracy_score, precision_score, recall_score, f1_score, roc_auc_score, classification_report\n",
    "\n",
    "results = {}\n",
    "\n",
    "for name, model in models.items():\n",
    "    model.fit(X_train_scaled, y_train)\n",
    "    y_pred = model.predict(X_test_scaled)\n",
    "    y_proba = model.predict_proba(X_test_scaled)[:,1] if hasattr(model, \"predict_proba\") else model.decision_function(X_test_scaled)\n",
    "    results[name] = {\n",
    "        \"accuracy\": accuracy_score(y_test, y_pred),\n",
    "        \"precision\": precision_score(y_test, y_pred),\n",
    "        \"recall\": recall_score(y_test, y_pred),\n",
    "        \"f1\": f1_score(y_test, y_pred),\n",
    "        \"roc_auc\": roc_auc_score(y_test, y_proba),\n",
    "        \"classification_report\": classification_report(y_test, y_pred)\n",
    "    }\n",
    "    print(f\"\\n{name} Classification Report:\\n\", results[name][\"classification_report\"])"
   ]
  },
  {
   "cell_type": "markdown",
   "metadata": {},
   "source": [
    "# Model Interpretability"
   ]
  },
  {
   "cell_type": "code",
   "execution_count": null,
   "metadata": {},
   "outputs": [],
   "source": [
    "import shap\n",
    "import lime\n",
    "import lime.lime_tabular"
   ]
  },
  {
   "cell_type": "code",
   "execution_count": null,
   "metadata": {},
   "outputs": [
    {
     "data": {
      "image/png": "[encoded data removed]",
      "text/plain": [
       "<Figure size 576x360 with 1 Axes>"
      ]
     },
     "metadata": {
      "needs_background": "light"
     },
     "output_type": "display_data"
    }
   ],
   "source": [
    "\n",
    "# Feature Importance for Random Forest\n",
    "rf = models[\"Random Forest\"]\n",
    "importances = rf.feature_importances_\n",
    "feat_names = X.columns\n",
    "plt.figure(figsize=(8,5))\n",
    "sns.barplot(x=importances, y=feat_names)\n",
    "plt.title(\"Random Forest Feature Importance\")\n",
    "plt.show()\n",
    "\n"
   ]
  },
  {
   "cell_type": "code",
   "execution_count": null,
   "metadata": {},
   "outputs": [],
   "source": [
    "# SHAP for interpretability (using Random Forest as example)\n",
    "explainer = shap.TreeExplainer(rf)\n",
    "shap_values = explainer.shap_values(X_test_scaled)\n",
    "shap.summary_plot(shap_values[1], X_test, plot_type=\"bar\")"
   ]
  },
  {
   "cell_type": "markdown",
   "metadata": {},
   "source": [
    "### LIME explanation for a single prediction"
   ]
  },
  {
   "cell_type": "code",
   "execution_count": null,
   "metadata": {},
   "outputs": [],
   "source": [
    "# We'll use the Random Forest model for this example\n",
    "rf_model = models[' Random Forest']\n",
    "\n",
    "# LIME for explaining a single prediction\n",
    "explainer = lime.lime_tabular.LimeTabularExplainer(",
    "    training_data=X_train_scaled,\n",
    "    feature_names=X.columns.tolist(),\n",
    "    class_names=['not diabetic', 'diabetic'],\n",
    "    mode='classification'\n",
    ")\n",
    "\n",
    "# We'll explain the first instance in the test set\n",
    "i = 0\n",
    "exp = explainer.explain_instance(",
    "    data_row=X_test_scaled[i],",
    "    predict_fn=rf_model.predict_proba\n",
    ")\n",
    "\n",
    "exp.show_in_notebook(show_table=True)"
   ]
  },
  {
   "cell_type": "markdown",
   "metadata": {},
   "source": [
    "### SHAP Force plot for a single prediction"
   ]
  },
  {
   "cell_type": "code",
   "execution_count": null,
   "metadata": {},
   "outputs": [],
   "source": [
    "# SHAP force plot for a single prediction\n",
    "shap.initjs()\n",
    "# explain the first prediction in the test set\n",
    "shap.force_plot(explainer.expected_value[1], shap_values[1][0,:], X_test.iloc[0,:])"
   ]
  },
  {
   "cell_type": "markdown",
   "metadata": {},
   "source": [
    "### SHAP Dependence plots"
   ]
  },
  {
   "cell_type": "code",
   "execution_count": null,
   "metadata": {},
   "outputs": [],
   "source": [
    "# SHAP dependence plots\n",
    "# Create dependence plot for the top features\n",
    "shap.dependence_plot(\"blood_glucose_level\", shap_values[1], X_test)\n",
    "shap.dependence_plot(\"bmi\", shap_values[1], X_test)\n",
    "shap.dependence_plot(\"age\", shap_values[1], X_test)"
   ]
  },
  {
   "cell_type": "code",
   "execution_count": null,
   "metadata": {},
   "outputs": [
    {
     "name": "stdout",
     "output_type": "stream",
     "text": [
      "(768, 8) (614, 8) (154, 8)\n"
     ]
    }
   ],
   "source": []
  },
  {
   "cell_type": "markdown",
   "metadata": {},
   "source": [
    "Training the model"
   ]
  },
  {
   "cell_type": "code",
   "execution_count": null,
   "metadata": {},
   "outputs": [],
   "source": [
    "classifier = svm.SVC(kernel = 'linear')"
   ]
  },
  {
   "cell_type": "code",
   "execution_count": null,
   "metadata": {},
   "outputs": [
    {
     "data": {
      "text/plain": [
       "SVC(kernel='linear')"
      ]
     },
     "execution_count": 70,
     "metadata": {},
     "output_type": "execute_result"
    }
   ],
   "source": [
    "## Training the support vector machine classifier\n",
    "\n",
    "classifier.fit(X_train, Y_train)"
   ]
  },
  {
   "cell_type": "markdown",
   "metadata": {},
   "source": [
    "Model Evaluation"
   ]
  },
  {
   "cell_type": "code",
   "execution_count": null,
   "metadata": {},
   "outputs": [],
   "source": [
    "## Accuracy score on training data\n",
    "\n",
    "X_train_prediction = classifier.predict(X_train)\n",
    "training_data_accuracy = accuracy_score(X_train_prediction, Y_train)"
   ]
  },
  {
   "cell_type": "code",
   "execution_count": null,
   "metadata": {},
   "outputs": [
    {
     "name": "stdout",
     "output_type": "stream",
     "text": [
      "Accuracy score of the training data :  0.7866449511400652\n"
     ]
    }
   ],
   "source": [
    "print(\"Accuracy score of the training data : \", training_data_accuracy)"
   ]
  },
  {
   "cell_type": "code",
   "execution_count": null,
   "metadata": {},
   "outputs": [],
   "source": [
    "## Accuracy score on test data\n",
    "\n",
    "X_test_prediction = classifier.predict(X_test)\n",
    "test_data_accuracy = accuracy_score(X_test_prediction, Y_test)"
   ]
  },
  {
   "cell_type": "code",
   "execution_count": null,
   "metadata": {},
   "outputs": [
    {
     "name": "stdout",
     "output_type": "stream",
     "text": [
      "Accuracy score of the test data :  0.7727272727272727\n"
     ]
    }
   ],
   "source": [
    "print(\"Accuracy score of the test data : \", test_data_accuracy)"
   ]
  },
  {
   "cell_type": "markdown",
   "metadata": {},
   "source": [
    "Making a Predictive system"
   ]
  },
  {
   "cell_type": "code",
   "execution_count": null,
   "metadata": {},
   "outputs": [
    {
     "name": "stdout",
     "output_type": "stream",
     "text": [
      "[[ 0.63994726 -2.28139074  0.14964075  0.90726993 -0.69289057  0.20401277\n",
      "   0.46849198  1.4259954 ]]\n",
      "[0]\n",
      "The person is not diabetic\n"
     ]
    }
   ],
   "source": [
    "input_data = (6,48,72,35,0,33.6,0.627,50)\n",
    "\n",
    "## Changing the input data to numpy array\n",
    "\n",
    "input_data_numpy_array = np.asarray(input_data)\n",
    "\n",
    "## Reshape the array as we are prdiciting one instance\n",
    "\n",
    "input_data_reshaped = input_data_numpy_array.reshape(1, -1)\n",
    "\n",
    "## Standardize the input data\n",
    "std_data = scaler.transform(input_data_reshaped)\n",
    "print(std_data)\n",
    "\n",
    "prediction = classifier.predict(std_data)\n",
    "print(prediction)\n",
    "\n",
    "if (prediction[0] == 0):\n",
    "    print(\"The person is not diabetic\")\n",
    "else:\n",
    "    print(\"The person is diabetic\")"
   ]
  },
  {
   "cell_type": "markdown",
   "metadata": {},
   "source": [
    "# Saving the model"
   ]
  },
  {
   "cell_type": "code",
   "execution_count": null,
   "metadata": {},
   "outputs": [],
   "source": [
    "import pickle"
   ]
  },
  {
   "cell_type": "code",
   "execution_count": null,
   "metadata": {},
   "outputs": [],
   "source": [
    "filename = 'diabetes_model.sav'\n",
    "pickle.dump(classifier, open(filename, 'wb'))"
   ]
  },
  {
   "cell_type": "code",
   "execution_count": null,
   "metadata": {},
   "outputs": [],
   "source": [
    "# Loading the saved model\n",
    "loaded_model = pickle.load(open('diabetes_model.sav', 'rb'))"
   ]
  },
  {
   "cell_type": "code",
   "execution_count": null,
   "metadata": {},
   "outputs": [],
   "source": []
  },
  {
   "cell_type": "code",
   "execution_count": null,
   "metadata": {},
   "outputs": [],
   "source": []
  }
 ],
 "metadata": {
  "kernelspec": {
   "display_name": "base",
   "language": "python",
   "name": "python3"
  },
  "language_info": {
   "codemirror_mode": {
    "name": "ipython",
    "version": 3
   },
   "file_extension": ".py",
   "mimetype": "text/x-python",
   "name": "python",
   "nbconvert_exporter": "python",
   "pygments_lexer": "ipython3",
   "version": "3.9.7"
  }
 },
 "nbformat": 4,
 "nbformat_minor": 2
}