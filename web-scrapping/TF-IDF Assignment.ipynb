{
 "cells": [
  {
   "cell_type": "code",
   "execution_count": 25,
   "id": "7d8344c4",
   "metadata": {},
   "outputs": [],
   "source": [
    "from sklearn.feature_extraction.text import TfidfVectorizer, CountVectorizer\n",
    "import pandas as pd"
   ]
  },
  {
   "cell_type": "code",
   "execution_count": 26,
   "id": "071390c4",
   "metadata": {},
   "outputs": [],
   "source": [
    "# Text extracted from the webpage\n",
    "text = \"\"\"\n",
    "Zimbabwe and several other Southern African countries are expected to suffer drought conditions in the annual rain season from October 2023 to April 2024, which coincides with the regional summer cropping season, according weather scientists. The forecast drought conditions are traced to a weather pattern called El Niño, which has traditionally badly affected farming production in Zimbabwe.\n",
    "\n",
    "El Niño refers to a cycle of warming and cooling events that happens along the equator in the Pacific Ocean leading to an increase in sea surface temperatures across the Pacific. The warming phase of the phenomenon called El Niño Southern Oscillation (ENSO) stimulates drought conditions. ENSO creates both dry and hot conditions that negatively affect food crops. The cooling part of the cycle is called La Niña and has the opposite effect.\n",
    "\n",
    "The World Meteorological Organization (WMO) says that El Niño conditions have developed in the tropical Pacific for the first time in seven years, setting the stage for a likely surge in global temperatures and disruptive weather and climate patterns. The WMO statement came on the eve of Zimbabwe’s summer cropping season.\n",
    "\n",
    "It causes drought and heatwaves, affects water supply for domestic, animal and industrial use and hits farming output for rain-fed agriculture.\n",
    "\n",
    "The El Niño poses a threat to the agricultural livelihoods of millions of people globally. In Southern Africa and Zimbabwe in particular, the impacts of El Niño have been felt across all sectors affecting the most vulnerable communities.\n",
    "\n",
    "El Niño and La Niña events happen every two to seven years, on average, but they don’t occur on a regular schedule.\n",
    "\n",
    "They usually last for 9-12 months but have been known to last for several years at a time.\n",
    "\n",
    "El Niño affects weather and storm patterns in different parts of the world.\n",
    "\n",
    "El Nino come in different varieties (no two El Niño events are exactly alike in intensity).\n",
    "\n",
    "In February 2016, former Zimbabwe President Robert Mugabe declared “ A state of disaster” following a drought triggered by El Niño, which left 2.44 million people struggling for food. The following was the recorded impact:\n",
    "\n",
    "Some 75 percent of Zimbabwe received less than normal rainfall.\n",
    "\n",
    "Severe livestock deaths – 17,000 were recorded in 2016.\n",
    "\n",
    "Crop failure, yield reduction leading to drought.\n",
    "\n",
    "Grain shortfall of 1.5 million tonnes.\n",
    "\n",
    "Increased household food insecurity as a result of loss of income. At least 70 percent of food production depends on peasant agriculture, with a majority of farmers in this category having no access to water for irrigation purposes.\n",
    "\n",
    "Outbreak of water borne diseases as people access water from insecure sources.\n",
    "\n",
    "Deepening poverty.\n",
    "\n",
    "Immediately commit resources to fund early action.\n",
    "\n",
    "Initiate collaborative action between private and public actors to mitigate the socio-economic and environmental risk posed by El Niño.\n",
    "\n",
    "Facilitate awareness campaigns to educate the public on the strategies to mitigate the impact of El Niño.\n",
    "\n",
    "Stepping up investment in resilience building for sustainable rural agriculture in Southern Africa.\n",
    "\n",
    "Upscaling social protection, adopting SMART agriculture techniques, climate change mitigation through smart livelihoods options, and management of natural resources.\n",
    "\n",
    "The rural communities should make use of indigenous knowledge to enhance and ensure crop and livestock production.\n",
    "\n",
    "Put in place resilient water management systems.\n",
    "\n",
    "Put vulnerable groups at the centre of the design and implementation of anticipatory action.\n",
    "\n",
    "Learn modern agricultural practices.\n",
    "\n",
    "Use drought resistant varieties.\n",
    "\n",
    "Do due diligence by seeking expert advice on the best crop choice to plant during El Niño.\n",
    "\"\"\""
   ]
  },
  {
   "cell_type": "code",
   "execution_count": 20,
   "id": "5c63e78d",
   "metadata": {},
   "outputs": [],
   "source": [
    "# Initialize and fit the TfidfVectorizer object\n",
    "tfidf_vectorizer = TfidfVectorizer()\n",
    "tfidf_matrix = tfidf_vectorizer.fit_transform([text])\n"
   ]
  },
  {
   "cell_type": "code",
   "execution_count": 21,
   "id": "1bb027d5",
   "metadata": {},
   "outputs": [
    {
     "name": "stdout",
     "output_type": "stream",
     "text": [
      "['000', '12', '17', '2016', '2023', '2024', '44', '70', '75', 'access', 'according', 'across', 'action', 'actors', 'adopting', 'advice', 'affect', 'affected', 'affecting', 'affects', 'africa', 'african', 'agricultural', 'agriculture', 'alike', 'all', 'along', 'an', 'and', 'animal', 'annual', 'anticipatory', 'april', 'are', 'as', 'at', 'average', 'awareness', 'badly', 'been', 'best', 'between', 'borne', 'both', 'building', 'but', 'by', 'called', 'came', 'campaigns', 'category', 'causes', 'centre', 'change', 'choice', 'climate', 'coincides', 'collaborative', 'come', 'commit', 'communities', 'conditions', 'cooling', 'countries', 'creates', 'crop', 'cropping', 'crops', 'cycle', 'deaths', 'declared', 'deepening', 'depends', 'design', 'developed', 'different', 'diligence', 'disaster', 'diseases', 'disruptive', 'do', 'domestic', 'don', 'drought', 'dry', 'due', 'during', 'early', 'economic', 'educate', 'effect', 'el', 'enhance', 'enso', 'ensure', 'environmental', 'equator', 'eve', 'events', 'every', 'exactly', 'expected', 'expert', 'facilitate', 'failure', 'farmers', 'farming', 'february', 'fed', 'felt', 'first', 'following', 'food', 'for', 'forecast', 'former', 'from', 'fund', 'global', 'globally', 'grain', 'groups', 'happen', 'happens', 'has', 'have', 'having', 'heatwaves', 'hits', 'hot', 'household', 'immediately', 'impact', 'impacts', 'implementation', 'in', 'income', 'increase', 'increased', 'indigenous', 'industrial', 'initiate', 'insecure', 'insecurity', 'intensity', 'investment', 'irrigation', 'is', 'it', 'knowledge', 'known', 'la', 'last', 'leading', 'learn', 'least', 'left', 'less', 'likely', 'livelihoods', 'livestock', 'loss', 'majority', 'make', 'management', 'meteorological', 'million', 'millions', 'mitigate', 'mitigation', 'modern', 'months', 'most', 'mugabe', 'natural', 'negatively', 'nino', 'niña', 'niño', 'no', 'normal', 'occur', 'ocean', 'october', 'of', 'on', 'opposite', 'options', 'organization', 'oscillation', 'other', 'outbreak', 'output', 'pacific', 'part', 'particular', 'parts', 'pattern', 'patterns', 'peasant', 'people', 'percent', 'phase', 'phenomenon', 'place', 'plant', 'posed', 'poses', 'poverty', 'practices', 'president', 'private', 'production', 'protection', 'public', 'purposes', 'put', 'rain', 'rainfall', 'received', 'recorded', 'reduction', 'refers', 'regional', 'regular', 'resilience', 'resilient', 'resistant', 'resources', 'result', 'risk', 'robert', 'rural', 'says', 'schedule', 'scientists', 'sea', 'season', 'sectors', 'seeking', 'setting', 'seven', 'several', 'severe', 'shortfall', 'should', 'smart', 'social', 'socio', 'some', 'sources', 'southern', 'stage', 'state', 'statement', 'stepping', 'stimulates', 'storm', 'strategies', 'struggling', 'suffer', 'summer', 'supply', 'surface', 'surge', 'sustainable', 'systems', 'techniques', 'temperatures', 'than', 'that', 'the', 'they', 'this', 'threat', 'through', 'time', 'to', 'tonnes', 'traced', 'traditionally', 'triggered', 'tropical', 'two', 'up', 'upscaling', 'use', 'usually', 'varieties', 'vulnerable', 'warming', 'was', 'water', 'weather', 'were', 'which', 'with', 'wmo', 'world', 'years', 'yield', 'zimbabwe']\n"
     ]
    }
   ],
   "source": [
    "# Get feature names using get_feature_names()\n",
    "feature_names = tfidf_vectorizer.get_feature_names()\n",
    "print(feature_names)"
   ]
  },
  {
   "cell_type": "code",
   "execution_count": 27,
   "id": "f148d1a3",
   "metadata": {},
   "outputs": [],
   "source": [
    "# Create TF-IDF representation\n",
    "tfidf_vectorizer = TfidfVectorizer()\n",
    "tfidf_matrix = tfidf_vectorizer.fit_transform([text])"
   ]
  },
  {
   "cell_type": "code",
   "execution_count": 31,
   "id": "cd87048b",
   "metadata": {},
   "outputs": [],
   "source": [
    "# Convert TF-IDF matrix to DataFrame (Ensure this line is executed)\n",
    "tfidf_df = pd.DataFrame(tfidf_matrix.toarray(), columns=tfidf_vectorizer.get_feature_names())\n"
   ]
  },
  {
   "cell_type": "code",
   "execution_count": 32,
   "id": "e418e791",
   "metadata": {},
   "outputs": [
    {
     "name": "stdout",
     "output_type": "stream",
     "text": [
      "\n",
      "TF-IDF Representation:\n",
      "\n",
      "        000        12        17      2016      2023      2024        44  \\\n",
      "0  0.016616  0.016616  0.016616  0.033232  0.016616  0.016616  0.016616   \n",
      "\n",
      "         70        75    access  ...    water   weather      were     which  \\\n",
      "0  0.016616  0.016616  0.033232  ...  0.08308  0.066464  0.016616  0.049848   \n",
      "\n",
      "       with       wmo     world     years     yield  zimbabwe  \n",
      "0  0.033232  0.033232  0.033232  0.049848  0.016616  0.099696  \n",
      "\n",
      "[1 rows x 302 columns]\n"
     ]
    }
   ],
   "source": [
    "# Display TF-IDF results\n",
    "print(\"\\nTF-IDF Representation:\\n\")\n",
    "print(tfidf_df.head())"
   ]
  },
  {
   "cell_type": "code",
   "execution_count": 33,
   "id": "32294839",
   "metadata": {},
   "outputs": [],
   "source": [
    "# Create Bag of Words representation\n",
    "bow_vectorizer = CountVectorizer()\n",
    "bow_matrix = bow_vectorizer.fit_transform([text])"
   ]
  },
  {
   "cell_type": "code",
   "execution_count": 35,
   "id": "1f9f8768",
   "metadata": {},
   "outputs": [],
   "source": [
    "# Convert BoW matrix to DataFrame\n",
    "bow_df = pd.DataFrame(bow_matrix.toarray(), columns=bow_vectorizer.get_feature_names())"
   ]
  },
  {
   "cell_type": "code",
   "execution_count": 36,
   "id": "933f361a",
   "metadata": {},
   "outputs": [
    {
     "name": "stdout",
     "output_type": "stream",
     "text": [
      "\n",
      "Bag of Words Representation:\n",
      "\n",
      "   000  12  17  2016  2023  2024  44  70  75  access  ...  water  weather  \\\n",
      "0    1   1   1     2     1     1   1   1   1       2  ...      5        4   \n",
      "\n",
      "   were  which  with  wmo  world  years  yield  zimbabwe  \n",
      "0     1      3     2    2      2      3      1         6  \n",
      "\n",
      "[1 rows x 302 columns]\n"
     ]
    }
   ],
   "source": [
    "# Display Bag of Words results\n",
    "print(\"\\nBag of Words Representation:\\n\")\n",
    "print(bow_df.head())"
   ]
  },
  {
   "cell_type": "markdown",
   "id": "2f3db65e",
   "metadata": {},
   "source": [
    "# Explanation"
   ]
  },
  {
   "cell_type": "markdown",
   "id": "fee421f1",
   "metadata": {},
   "source": [
    "\n",
    "TF-IDF Representation\n",
    "\n",
    "    TF-IDF (Term Frequency-Inverse Document Frequency) measures how important a word is within a document relative to its frequency across all documents.\n",
    "\n",
    "    Each word is assigned a weight based on its importance:\n",
    "\n",
    "        High weight: Rare words that appear frequently within this document.\n",
    "\n",
    "        Low weight: Common words that appear across many documents (e.g., \"the\", \"and\").\n"
   ]
  },
  {
   "cell_type": "markdown",
   "id": "e2d31aab",
   "metadata": {},
   "source": [
    "Bag of Words Representation\n",
    "\n",
    "    Bag of Words counts occurrences of words within a document without considering their importance or context.\n",
    "\n",
    "    Each word is represented by its frequency:\n",
    "\n",
    "        Example: If \"zimbabwe\" appears six times, its count is 6.\n"
   ]
  },
  {
   "cell_type": "markdown",
   "id": "9b93fac3",
   "metadata": {},
   "source": [
    "# Conclusion"
   ]
  },
  {
   "cell_type": "markdown",
   "id": "0fb83bac",
   "metadata": {},
   "source": [
    "\n",
    "    TF-IDF is suitable for identifying important terms related to climate change impacts (e.g., \"drought\", \"El Niño\").\n",
    "\n",
    "    Bag of Words is useful for analyzing raw word frequencies without weighting their importance.\n",
    "    Both methods provide valuable insights into text data extracted from SCM-related contexts like climate change impacts on agriculture in Zimbabwe.\n"
   ]
  },
  {
   "cell_type": "code",
   "execution_count": null,
   "id": "4e4cd750",
   "metadata": {},
   "outputs": [],
   "source": []
  }
 ],
 "metadata": {
  "kernelspec": {
   "display_name": "Python 3",
   "language": "python",
   "name": "python3"
  },
  "language_info": {
   "codemirror_mode": {
    "name": "ipython",
    "version": 3
   },
   "file_extension": ".py",
   "mimetype": "text/x-python",
   "name": "python",
   "nbconvert_exporter": "python",
   "pygments_lexer": "ipython3",
   "version": "3.8.8"
  }
 },
 "nbformat": 4,
 "nbformat_minor": 5
}
