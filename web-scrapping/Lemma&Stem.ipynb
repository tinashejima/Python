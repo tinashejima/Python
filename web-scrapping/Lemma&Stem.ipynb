{
 "cells": [
  {
   "cell_type": "code",
   "execution_count": 9,
   "metadata": {},
   "outputs": [],
   "source": [
    "import requests\n",
    "from bs4 import BeautifulSoup\n",
    "\n",
    "def generate_2000_words(url):\n",
    "    #Avoiding requests from being blocked\n",
    "    headers = {\n",
    "        'User-Agent': 'Mozilla/5.0 (Windows NT 10.0; Win64; x64) AppleWebKit/537.36 (KHTML, like Gecko) Chrome/91.0.4472.124 Safari/537.36'\n",
    "    }\n",
    "    response = requests.get(url, headers=headers)\n",
    "    soup = BeautifulSoup(response.text, 'html.parser')\n",
    "    text = ' '.join([p.get_text() for p in soup.find_all('p')])\n",
    "    return ' '.join(text.split()[:2000])  # return 2000 words\n",
    "\n",
    "scraped_text = generate_2000_words(\"https://africanarguments.org/2024/11/the-depoliticization-of-feminism-in-zimbabwe/\")\n",
    "with open(\"scraped_text.txt\", \"w\") as f:\n",
    "    f.write(scraped_text)"
   ]
  },
  {
   "cell_type": "code",
   "execution_count": null,
   "metadata": {},
   "outputs": [],
   "source": [
    "\n",
    "import requests\n",
    "from bs4 import BeautifulSoup\n",
    "import nltk\n",
    "from nltk.stem import PorterStemmer, WordNetLemmatizer\n",
    "from nltk.tokenize import word_tokenize\n",
    "from nltk.corpus import stopwords\n",
    "\n",
    "# Download required NLTK data\n",
    "nltk.download('punkt')\n",
    "nltk.download('wordnet')\n",
    "nltk.download('stopwords')\n",
    "\n",
    "def preprocess_text(text):\n",
    "    # Tokenize and clean\n",
    "    tokens = word_tokenize(text.lower())\n",
    "    tokens = [word for word in tokens if word.isalpha()]  # Remove punctuation/numbers\n",
    "    tokens = [word for word in tokens if word not in stopwords.words('english')]\n",
    "    return tokens\n",
    "\n",
    "def apply_stemming(tokens):\n",
    "    stemmer = PorterStemmer()\n",
    "    return [stemmer.stem(token) for token in tokens]\n",
    "\n",
    "def apply_lemmatization(tokens):\n",
    "    lemmatizer = WordNetLemmatizer()\n",
    "    return [lemmatizer.lemmatize(token) for token in tokens]\n",
    "\n",
    "# Get our text\n",
    "url = \"https://en.wikipedia.org/wiki/Natural_language_processing\"\n",
    "response = requests.get(url)\n",
    "soup = BeautifulSoup(response.text, 'html.parser')\n",
    "text = ' '.join([p.get_text() for p in soup.find_all('p')])\n",
    "text_2500 = ' '.join(text.split()[:2500])\n",
    "\n",
    "# Process the text\n",
    "tokens = preprocess_text(text_2500)\n",
    "stemmed = apply_stemming(tokens)\n",
    "lemmatized = apply_lemmatization(tokens)\n",
    "\n",
    "# Compare results\n",
    "print(\"Original:\", tokens[:10])\n",
    "print(\"Stemmed:\", stemmed[:10])\n",
    "print(\"Lemmatized:\", lemmatized[:10])\n",
    "\n",
    "# Save results\n",
    "with open(\"stemmed.txt\", \"w\") as f:\n",
    "    f.write(' '.join(stemmed))\n",
    "\n",
    "with open(\"lemmatized.txt\", \"w\") as f:\n",
    "    f.write(' '.join(lemmatized))"
   ]
  },
  {
   "cell_type": "code",
   "execution_count": null,
   "metadata": {},
   "outputs": [],
   "source": []
  }
 ],
 "metadata": {
  "kernelspec": {
   "display_name": "Python 3",
   "language": "python",
   "name": "python3"
  },
  "language_info": {
   "codemirror_mode": {
    "name": "ipython",
    "version": 3
   },
   "file_extension": ".py",
   "mimetype": "text/x-python",
   "name": "python",
   "nbconvert_exporter": "python",
   "pygments_lexer": "ipython3",
   "version": "3.10.12"
  }
 },
 "nbformat": 4,
 "nbformat_minor": 2
}
