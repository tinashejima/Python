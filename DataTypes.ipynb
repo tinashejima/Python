{
 "cells": [
  {
   "cell_type": "markdown",
   "metadata": {},
   "source": [
    "# SETS\n"
   ]
  },
  {
   "cell_type": "code",
   "execution_count": 1,
   "metadata": {},
   "outputs": [
    {
     "name": "stdout",
     "output_type": "stream",
     "text": [
      "{'apple', 'pear', 'banana', 'orange'}\n",
      "{'r', 'b', 'd', 'a', 'c'}\n",
      "{'r', 'z', 'b', 'd', 'a', 'c'}\n"
     ]
    }
   ],
   "source": [
    "#Sets - They are mutable and new elements can be added once sets are deﬁned\n",
    "\n",
    "basket = {'apple', 'orange', 'apple', 'pear', 'orange', 'banana'}\n",
    "print(basket)\n",
    "\n",
    "# duplicates will be removed\n",
    "\n",
    "a = set('abracadabra')\n",
    "print(a)\n",
    "\n",
    "# unique letters in a\n",
    "\n",
    "a.add('z')\n",
    "print(a)"
   ]
  },
  {
   "cell_type": "code",
   "execution_count": 4,
   "metadata": {},
   "outputs": [
    {
     "name": "stdout",
     "output_type": "stream",
     "text": [
      "frozenset({'f', 's', 'a', 'g', 'd'})\n",
      "frozenset({'Basel', 'Frankfurt', 'Freiburg'})\n"
     ]
    }
   ],
   "source": [
    "#Frozen Sets - They are immutable and new elements cannot added after its deﬁned.\n",
    "b = frozenset('asdfagsa')\n",
    "print(b)\n",
    "\n",
    "cities = frozenset([\"Frankfurt\", \"Basel\",\"Freiburg\"])\n",
    "print(cities)\n",
    "\n"
   ]
  },
  {
   "cell_type": "markdown",
   "metadata": {},
   "source": [
    "# LISTS"
   ]
  },
  {
   "cell_type": "code",
   "execution_count": 2,
   "metadata": {},
   "outputs": [
    {
     "name": "stdout",
     "output_type": "stream",
     "text": [
      "[123, 'abcd', 10.2, 'd']\n",
      "[123, 'abcd']\n",
      "['hello', 'world', 'hello', 'world']\n",
      "[123, 'abcd', 10.2, 'd', 'hello', 'world']\n"
     ]
    }
   ],
   "source": [
    "list = [123,'abcd',10.2,'d']    #can be an array of any data type or single data type.\n",
    "\n",
    "list1 = ['hello','world']\n",
    "\n",
    "print(list)\n",
    "\n",
    "print(list[0:2])  #will output first two element of list. [123,'abcd']\n",
    "\n",
    "\n",
    "print(list1 * 2)   #will gave list1 two times. ['hello','world','hello','world']\n",
    "\n",
    "\n",
    "print(list + list1)   #will gave concatenation of both the lists.\n",
    "\n"
   ]
  },
  {
   "cell_type": "code",
   "execution_count": 3,
   "metadata": {},
   "outputs": [
    {
     "name": "stdout",
     "output_type": "stream",
     "text": [
      "[21, 'abcd', 10.2, 'd']\n"
     ]
    }
   ],
   "source": [
    "# change element at index 0\n",
    "list[0] = 21\n",
    "print(list)"
   ]
  },
  {
   "cell_type": "code",
   "execution_count": 5,
   "metadata": {},
   "outputs": [
    {
     "name": "stdout",
     "output_type": "stream",
     "text": [
      "[21, 'abcd', 'taps', 10.2, 'd', 'tynash', 'tynash']\n"
     ]
    }
   ],
   "source": [
    "list.append(\"tynash\")\n",
    "list.insert(2, 'taps')\n",
    "print(list)"
   ]
  },
  {
   "cell_type": "code",
   "execution_count": 6,
   "metadata": {},
   "outputs": [
    {
     "data": {
      "text/plain": [
       "7"
      ]
     },
     "execution_count": 6,
     "metadata": {},
     "output_type": "execute_result"
    }
   ],
   "source": [
    "len(list)"
   ]
  },
  {
   "cell_type": "code",
   "execution_count": 16,
   "metadata": {},
   "outputs": [
    {
     "data": {
      "text/plain": [
       "[0, 1, 2, 4, 5, 6, 8]"
      ]
     },
     "execution_count": 16,
     "metadata": {},
     "output_type": "execute_result"
    }
   ],
   "source": [
    "list2 = [2, 4,8,6,5,1,0]\n",
    "list2.sort()\n",
    "list2"
   ]
  },
  {
   "cell_type": "code",
   "execution_count": 21,
   "metadata": {},
   "outputs": [
    {
     "data": {
      "text/plain": [
       "'d'"
      ]
     },
     "execution_count": 21,
     "metadata": {},
     "output_type": "execute_result"
    }
   ],
   "source": [
    "list.pop()\n"
   ]
  },
  {
   "cell_type": "markdown",
   "metadata": {},
   "source": [
    "# Dictionary"
   ]
  },
  {
   "cell_type": "code",
   "execution_count": 18,
   "metadata": {},
   "outputs": [
    {
     "name": "stdout",
     "output_type": "stream",
     "text": [
      "{'name': 'red', 'age': 10}\n",
      "red\n",
      "dict_values(['red', 10])\n",
      "dict_keys(['name', 'age'])\n"
     ]
    }
   ],
   "source": [
    "dict={'name':'red','age':10}\n",
    "print(dict)\n",
    "\n",
    "print(dict['name'])\n",
    "#will output only value with 'name' key. 'red'\n",
    "\n",
    "print(dict.values())\n",
    "#will output list of values in dic. ['red',10]\n",
    "\n",
    "print(dict.keys())"
   ]
  },
  {
   "cell_type": "code",
   "execution_count": null,
   "metadata": {},
   "outputs": [],
   "source": []
  }
 ],
 "metadata": {
  "kernelspec": {
   "display_name": "base",
   "language": "python",
   "name": "python3"
  },
  "language_info": {
   "codemirror_mode": {
    "name": "ipython",
    "version": 3
   },
   "file_extension": ".py",
   "mimetype": "text/x-python",
   "name": "python",
   "nbconvert_exporter": "python",
   "pygments_lexer": "ipython3",
   "version": "3.7.0"
  }
 },
 "nbformat": 4,
 "nbformat_minor": 2
}
