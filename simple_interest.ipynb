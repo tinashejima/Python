{
 "cells": [
  {
   "cell_type": "code",
   "execution_count": 11,
   "metadata": {},
   "outputs": [
    {
     "name": "stdout",
     "output_type": "stream",
     "text": [
      "Simple interest = 100.0\n"
     ]
    }
   ],
   "source": [
    "##Simple interest = principle * rate * time\n",
    "\n",
    "principal = eval(input(\"Enter Principle:\"))\n",
    "\n",
    "rate = eval(input(\"Enter Rate:\"))\n",
    "\n",
    "time = eval(input(\"Enter Time:\"))\n",
    "\n",
    "\n",
    "interest = (principal * rate * time)/100\n",
    "\n",
    "print(f\"Simple interest = {interest}\")\n"
   ]
  },
  {
   "cell_type": "code",
   "execution_count": 21,
   "metadata": {},
   "outputs": [
    {
     "name": "stdout",
     "output_type": "stream",
     "text": [
      "Principal = 1000, rate = 5, time = 2\n",
      "Simple Interest is 100.0\n"
     ]
    }
   ],
   "source": [
    "def simple_interest(principal, rate, time):\n",
    "    interest = (principal * rate * time) / 100\n",
    "    return interest\n",
    "         \n",
    "principal = (eval(input(\"Enter the principal amount: \")))\n",
    "rate = (eval(input(\"Enter the interest rate (%): \")))\n",
    "time = (eval(input(\"Enter the time period (in years): \")))\n",
    "\n",
    "simple_interest = simple_interest(principal, rate, time)\n",
    "print(f\"Principal = {principal}, rate = {rate}, time = {time}\")\n",
    "print(\"Simple Interest is\", simple_interest)\n"
   ]
  },
  {
   "cell_type": "code",
   "execution_count": null,
   "metadata": {},
   "outputs": [],
   "source": []
  }
 ],
 "metadata": {
  "kernelspec": {
   "display_name": "base",
   "language": "python",
   "name": "python3"
  },
  "language_info": {
   "codemirror_mode": {
    "name": "ipython",
    "version": 3
   },
   "file_extension": ".py",
   "mimetype": "text/x-python",
   "name": "python",
   "nbconvert_exporter": "python",
   "pygments_lexer": "ipython3",
   "version": "3.9.7"
  }
 },
 "nbformat": 4,
 "nbformat_minor": 2
}
