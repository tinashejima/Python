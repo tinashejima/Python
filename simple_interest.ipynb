{
 "cells": [
  {
   "cell_type": "code",
   "execution_count": 1,
   "metadata": {},
   "outputs": [
    {
     "name": "stdout",
     "output_type": "stream",
     "text": [
      "Simple interest = 300.0\n"
     ]
    }
   ],
   "source": [
    "##Simple interest = principle * rate * time\n",
    "\n",
    "principle = (input(\"Enter Principle:\"))\n",
    "\n",
    "rate = (input(\"Enter Rate:\"))\n",
    "\n",
    "time = (input(\"Enter Time:\"))\n",
    "\n",
    "\n",
    "interest = eval(principle * rate * time)/100\n",
    "\n",
    "print(f\"Simple interest = {interest}\")\n"
   ]
  },
  {
   "cell_type": "code",
   "execution_count": null,
   "metadata": {},
   "outputs": [],
   "source": []
  }
 ],
 "metadata": {
  "kernelspec": {
   "display_name": "base",
   "language": "python",
   "name": "python3"
  },
  "language_info": {
   "codemirror_mode": {
    "name": "ipython",
    "version": 3
   },
   "file_extension": ".py",
   "mimetype": "text/x-python",
   "name": "python",
   "nbconvert_exporter": "python",
   "pygments_lexer": "ipython3",
   "version": "3.9.7"
  }
 },
 "nbformat": 4,
 "nbformat_minor": 2
}
