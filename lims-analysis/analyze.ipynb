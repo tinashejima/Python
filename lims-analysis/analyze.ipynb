{
 "cells": [
  {
   "cell_type": "code",
   "execution_count": 71,
   "id": "78e03af9",
   "metadata": {},
   "outputs": [],
   "source": [
    "import pandas as pd\n",
    "import numpy as np"
   ]
  },
  {
   "cell_type": "code",
   "execution_count": 72,
   "id": "ede6cb3a",
   "metadata": {},
   "outputs": [
    {
     "data": {
      "text/html": [
       "<div>\n",
       "<style scoped>\n",
       "    .dataframe tbody tr th:only-of-type {\n",
       "        vertical-align: middle;\n",
       "    }\n",
       "\n",
       "    .dataframe tbody tr th {\n",
       "        vertical-align: top;\n",
       "    }\n",
       "\n",
       "    .dataframe thead th {\n",
       "        text-align: right;\n",
       "    }\n",
       "</style>\n",
       "<table border=\"1\" class=\"dataframe\">\n",
       "  <thead>\n",
       "    <tr style=\"text-align: right;\">\n",
       "      <th></th>\n",
       "      <th>Date Sample Taken</th>\n",
       "      <th>Laboratory Request Number</th>\n",
       "      <th>Art Number</th>\n",
       "      <th>Cohort Number</th>\n",
       "      <th>Facility</th>\n",
       "      <th>Test Type</th>\n",
       "      <th>Request Reason</th>\n",
       "      <th>Date Result Issued</th>\n",
       "    </tr>\n",
       "  </thead>\n",
       "  <tbody>\n",
       "    <tr>\n",
       "      <th>0</th>\n",
       "      <td>2025-09-16</td>\n",
       "      <td>09-0A-17-2025-L-14889</td>\n",
       "      <td>09-0A-17-2011-A-01412</td>\n",
       "      <td>SEP-2011</td>\n",
       "      <td>Nketa</td>\n",
       "      <td>Viral Load</td>\n",
       "      <td>Routine Viral Load</td>\n",
       "      <td>2025-09-16</td>\n",
       "    </tr>\n",
       "    <tr>\n",
       "      <th>1</th>\n",
       "      <td>2025-09-16</td>\n",
       "      <td>09-0A-17-2025-L-14891</td>\n",
       "      <td>09-0A-17-2011-A-01381</td>\n",
       "      <td>SEP-2011</td>\n",
       "      <td>Nketa</td>\n",
       "      <td>Viral Load</td>\n",
       "      <td>Routine Viral Load</td>\n",
       "      <td>2025-09-16</td>\n",
       "    </tr>\n",
       "    <tr>\n",
       "      <th>2</th>\n",
       "      <td>2025-09-16</td>\n",
       "      <td>09-0A-17-2025-L-14893</td>\n",
       "      <td>09-0A-17-2008-A-01005</td>\n",
       "      <td>SEP-2008</td>\n",
       "      <td>Nketa</td>\n",
       "      <td>Viral Load</td>\n",
       "      <td>Routine Viral Load</td>\n",
       "      <td>2025-09-16</td>\n",
       "    </tr>\n",
       "    <tr>\n",
       "      <th>3</th>\n",
       "      <td>2025-09-16</td>\n",
       "      <td>09-0A-17-2025-L-14895</td>\n",
       "      <td>09-0A-17-2015-A-00303</td>\n",
       "      <td>SEP-2015</td>\n",
       "      <td>Nketa</td>\n",
       "      <td>Viral Load</td>\n",
       "      <td>Routine Viral Load</td>\n",
       "      <td>2025-09-16</td>\n",
       "    </tr>\n",
       "    <tr>\n",
       "      <th>4</th>\n",
       "      <td>2025-09-16</td>\n",
       "      <td>09-0A-17-2025-L-14897</td>\n",
       "      <td>09-0A-17-2011-A-01427</td>\n",
       "      <td>SEP-2011</td>\n",
       "      <td>Nketa</td>\n",
       "      <td>Viral Load</td>\n",
       "      <td>Routine Viral Load</td>\n",
       "      <td>2025-09-16</td>\n",
       "    </tr>\n",
       "  </tbody>\n",
       "</table>\n",
       "</div>"
      ],
      "text/plain": [
       "  Date Sample Taken  Laboratory Request Number             Art Number  \\\n",
       "0         2025-09-16     09-0A-17-2025-L-14889  09-0A-17-2011-A-01412   \n",
       "1         2025-09-16     09-0A-17-2025-L-14891  09-0A-17-2011-A-01381   \n",
       "2         2025-09-16     09-0A-17-2025-L-14893  09-0A-17-2008-A-01005   \n",
       "3         2025-09-16     09-0A-17-2025-L-14895  09-0A-17-2015-A-00303   \n",
       "4         2025-09-16     09-0A-17-2025-L-14897  09-0A-17-2011-A-01427   \n",
       "\n",
       "  Cohort Number Facility   Test Type      Request Reason Date Result Issued  \n",
       "0      SEP-2011    Nketa  Viral Load  Routine Viral Load         2025-09-16  \n",
       "1      SEP-2011    Nketa  Viral Load  Routine Viral Load         2025-09-16  \n",
       "2      SEP-2008    Nketa  Viral Load  Routine Viral Load         2025-09-16  \n",
       "3      SEP-2015    Nketa  Viral Load  Routine Viral Load         2025-09-16  \n",
       "4      SEP-2011    Nketa  Viral Load  Routine Viral Load         2025-09-16  "
      ]
     },
     "execution_count": 72,
     "metadata": {},
     "output_type": "execute_result"
    }
   ],
   "source": [
    "df1 = pd.read_csv('nketa-orders0916.csv')\n",
    "df1.head()"
   ]
  },
  {
   "cell_type": "code",
   "execution_count": 73,
   "id": "ae8ec037",
   "metadata": {},
   "outputs": [
    {
     "data": {
      "text/plain": [
       "Index(['Date Sample Taken ', 'Laboratory Request Number', 'Art Number',\n",
       "       'Cohort Number', 'Facility', 'Test Type', 'Request Reason',\n",
       "       'Date Result Issued'],\n",
       "      dtype='object')"
      ]
     },
     "execution_count": 73,
     "metadata": {},
     "output_type": "execute_result"
    }
   ],
   "source": [
    "df1.columns"
   ]
  },
  {
   "cell_type": "code",
   "execution_count": 74,
   "id": "51bc56da",
   "metadata": {},
   "outputs": [
    {
     "name": "stdout",
     "output_type": "stream",
     "text": [
      "77\n"
     ]
    }
   ],
   "source": [
    "\n",
    "count = len(df1[df1['Date Sample Taken '] == '2025-09-16'])\n",
    "print(count)"
   ]
  },
  {
   "cell_type": "code",
   "execution_count": 75,
   "id": "818ab5e1",
   "metadata": {},
   "outputs": [
    {
     "data": {
      "text/html": [
       "<div>\n",
       "<style scoped>\n",
       "    .dataframe tbody tr th:only-of-type {\n",
       "        vertical-align: middle;\n",
       "    }\n",
       "\n",
       "    .dataframe tbody tr th {\n",
       "        vertical-align: top;\n",
       "    }\n",
       "\n",
       "    .dataframe thead th {\n",
       "        text-align: right;\n",
       "    }\n",
       "</style>\n",
       "<table border=\"1\" class=\"dataframe\">\n",
       "  <thead>\n",
       "    <tr style=\"text-align: right;\">\n",
       "      <th></th>\n",
       "      <th>client_sample_id</th>\n",
       "      <th>facility</th>\n",
       "      <th>facility_id</th>\n",
       "      <th>sample_type_name</th>\n",
       "      <th>test_name</th>\n",
       "      <th>date_collected</th>\n",
       "      <th>date_published</th>\n",
       "      <th>review_state</th>\n",
       "      <th>sent_to_lims</th>\n",
       "      <th>sent_to_ehr</th>\n",
       "      <th>error_reason</th>\n",
       "    </tr>\n",
       "  </thead>\n",
       "  <tbody>\n",
       "    <tr>\n",
       "      <th>0</th>\n",
       "      <td>01235R</td>\n",
       "      <td>Princess Margaret</td>\n",
       "      <td>ZW090A12</td>\n",
       "      <td>Blood</td>\n",
       "      <td>Viral Load</td>\n",
       "      <td>2025-09-09 07:13:51.000</td>\n",
       "      <td>NaN</td>\n",
       "      <td>sample_due</td>\n",
       "      <td>SENT_TO_LIMS</td>\n",
       "      <td>sample_due</td>\n",
       "      <td>NaN</td>\n",
       "    </tr>\n",
       "    <tr>\n",
       "      <th>1</th>\n",
       "      <td>48749L</td>\n",
       "      <td>Princess Margaret</td>\n",
       "      <td>ZW090A12</td>\n",
       "      <td>Blood</td>\n",
       "      <td>Viral Load</td>\n",
       "      <td>2025-09-09 06:40:47.000</td>\n",
       "      <td>NaN</td>\n",
       "      <td>sample_due</td>\n",
       "      <td>SENT_TO_LIMS</td>\n",
       "      <td>sample_due</td>\n",
       "      <td>NaN</td>\n",
       "    </tr>\n",
       "    <tr>\n",
       "      <th>2</th>\n",
       "      <td>66754Q</td>\n",
       "      <td>Nketa</td>\n",
       "      <td>ZW090A17</td>\n",
       "      <td>Blood</td>\n",
       "      <td>Viral Load</td>\n",
       "      <td>2025-09-12 06:12:12.000</td>\n",
       "      <td>NaN</td>\n",
       "      <td>sample_received</td>\n",
       "      <td>SENT_TO_LIMS</td>\n",
       "      <td>sample_received</td>\n",
       "      <td>NaN</td>\n",
       "    </tr>\n",
       "    <tr>\n",
       "      <th>3</th>\n",
       "      <td>30607Z</td>\n",
       "      <td>Nketa</td>\n",
       "      <td>ZW090A17</td>\n",
       "      <td>Blood</td>\n",
       "      <td>Viral Load</td>\n",
       "      <td>2025-09-12 06:10:38.000</td>\n",
       "      <td>NaN</td>\n",
       "      <td>sample_received</td>\n",
       "      <td>SENT_TO_LIMS</td>\n",
       "      <td>sample_received</td>\n",
       "      <td>NaN</td>\n",
       "    </tr>\n",
       "    <tr>\n",
       "      <th>4</th>\n",
       "      <td>93796T</td>\n",
       "      <td>Nketa</td>\n",
       "      <td>ZW090A17</td>\n",
       "      <td>Blood</td>\n",
       "      <td>Viral Load</td>\n",
       "      <td>2025-09-12 06:08:57.000</td>\n",
       "      <td>NaN</td>\n",
       "      <td>sample_received</td>\n",
       "      <td>SENT_TO_LIMS</td>\n",
       "      <td>sample_received</td>\n",
       "      <td>NaN</td>\n",
       "    </tr>\n",
       "  </tbody>\n",
       "</table>\n",
       "</div>"
      ],
      "text/plain": [
       "  client_sample_id           facility facility_id sample_type_name  \\\n",
       "0           01235R  Princess Margaret    ZW090A12            Blood   \n",
       "1           48749L  Princess Margaret    ZW090A12            Blood   \n",
       "2           66754Q              Nketa    ZW090A17            Blood   \n",
       "3           30607Z              Nketa    ZW090A17            Blood   \n",
       "4           93796T              Nketa    ZW090A17            Blood   \n",
       "\n",
       "    test_name           date_collected date_published     review_state  \\\n",
       "0  Viral Load  2025-09-09 07:13:51.000            NaN       sample_due   \n",
       "1  Viral Load  2025-09-09 06:40:47.000            NaN       sample_due   \n",
       "2  Viral Load  2025-09-12 06:12:12.000            NaN  sample_received   \n",
       "3  Viral Load  2025-09-12 06:10:38.000            NaN  sample_received   \n",
       "4  Viral Load  2025-09-12 06:08:57.000            NaN  sample_received   \n",
       "\n",
       "   sent_to_lims      sent_to_ehr error_reason  \n",
       "0  SENT_TO_LIMS       sample_due          NaN  \n",
       "1  SENT_TO_LIMS       sample_due          NaN  \n",
       "2  SENT_TO_LIMS  sample_received          NaN  \n",
       "3  SENT_TO_LIMS  sample_received          NaN  \n",
       "4  SENT_TO_LIMS  sample_received          NaN  "
      ]
     },
     "execution_count": 75,
     "metadata": {},
     "output_type": "execute_result"
    }
   ],
   "source": [
    "df2 = pd.read_csv('EHR_laboratory_request_202509170953.csv')\n",
    "df2.head()"
   ]
  },
  {
   "cell_type": "code",
   "execution_count": 76,
   "id": "721786db",
   "metadata": {},
   "outputs": [
    {
     "data": {
      "text/plain": [
       "Index(['client_sample_id', 'facility', 'facility_id', 'sample_type_name',\n",
       "       'test_name', 'date_collected', 'date_published', 'review_state',\n",
       "       'sent_to_lims', 'sent_to_ehr', 'error_reason'],\n",
       "      dtype='object')"
      ]
     },
     "execution_count": 76,
     "metadata": {},
     "output_type": "execute_result"
    }
   ],
   "source": [
    "df2.columns"
   ]
  },
  {
   "cell_type": "code",
   "execution_count": 77,
   "id": "abc4a264",
   "metadata": {},
   "outputs": [
    {
     "name": "stdout",
     "output_type": "stream",
     "text": [
      "51\n"
     ]
    }
   ],
   "source": [
    "count = len(df2[df2['date_collected'].str.startswith('2025-09-16')])\n",
    "print(count)"
   ]
  },
  {
   "cell_type": "code",
   "execution_count": 78,
   "id": "41629dfa",
   "metadata": {},
   "outputs": [
    {
     "data": {
      "text/html": [
       "<div>\n",
       "<style scoped>\n",
       "    .dataframe tbody tr th:only-of-type {\n",
       "        vertical-align: middle;\n",
       "    }\n",
       "\n",
       "    .dataframe tbody tr th {\n",
       "        vertical-align: top;\n",
       "    }\n",
       "\n",
       "    .dataframe thead th {\n",
       "        text-align: right;\n",
       "    }\n",
       "</style>\n",
       "<table border=\"1\" class=\"dataframe\">\n",
       "  <thead>\n",
       "    <tr style=\"text-align: right;\">\n",
       "      <th></th>\n",
       "      <th>lab_request_number</th>\n",
       "      <th>task_status</th>\n",
       "      <th>test_type</th>\n",
       "      <th>task_authored_on</th>\n",
       "      <th>date_sample_taken</th>\n",
       "      <th>encounter_facility</th>\n",
       "      <th>encounter_facility_id</th>\n",
       "      <th>impilo_cid_long_lab_req_num</th>\n",
       "    </tr>\n",
       "  </thead>\n",
       "  <tbody>\n",
       "    <tr>\n",
       "      <th>0</th>\n",
       "      <td>68160X</td>\n",
       "      <td>accepted</td>\n",
       "      <td>Viral Load</td>\n",
       "      <td>2025-09-16T09:39:50+02:00</td>\n",
       "      <td>2025-09-16T09:39:31+02:00</td>\n",
       "      <td>Nketa</td>\n",
       "      <td>ZW090A17</td>\n",
       "      <td>09-0A-17-2025-L-15023</td>\n",
       "    </tr>\n",
       "    <tr>\n",
       "      <th>1</th>\n",
       "      <td>65165X</td>\n",
       "      <td>accepted</td>\n",
       "      <td>Viral Load</td>\n",
       "      <td>2025-09-15T09:24:06+02:00</td>\n",
       "      <td>2025-09-16T09:23:49+02:00</td>\n",
       "      <td>Nketa</td>\n",
       "      <td>ZW090A17</td>\n",
       "      <td>09-0A-17-2025-L-14843</td>\n",
       "    </tr>\n",
       "    <tr>\n",
       "      <th>2</th>\n",
       "      <td>11627X</td>\n",
       "      <td>accepted</td>\n",
       "      <td>Viral Load</td>\n",
       "      <td>2025-09-15T09:29:05+02:00</td>\n",
       "      <td>2025-09-16T09:28:25+02:00</td>\n",
       "      <td>Nketa</td>\n",
       "      <td>ZW090A17</td>\n",
       "      <td>09-0A-17-2025-L-14851</td>\n",
       "    </tr>\n",
       "    <tr>\n",
       "      <th>3</th>\n",
       "      <td>28427E</td>\n",
       "      <td>accepted</td>\n",
       "      <td>Viral Load</td>\n",
       "      <td>2025-09-16T10:01:04+02:00</td>\n",
       "      <td>2025-09-16T10:00:42+02:00</td>\n",
       "      <td>Nketa</td>\n",
       "      <td>ZW090A17</td>\n",
       "      <td>09-0A-17-2025-L-15049</td>\n",
       "    </tr>\n",
       "    <tr>\n",
       "      <th>4</th>\n",
       "      <td>50034P</td>\n",
       "      <td>accepted</td>\n",
       "      <td>Viral Load</td>\n",
       "      <td>2025-09-15T08:44:19+02:00</td>\n",
       "      <td>2025-09-16T08:44:01+02:00</td>\n",
       "      <td>Nketa</td>\n",
       "      <td>ZW090A17</td>\n",
       "      <td>09-0A-17-2025-L-14758</td>\n",
       "    </tr>\n",
       "  </tbody>\n",
       "</table>\n",
       "</div>"
      ],
      "text/plain": [
       "  lab_request_number task_status   test_type           task_authored_on  \\\n",
       "0             68160X    accepted  Viral Load  2025-09-16T09:39:50+02:00   \n",
       "1             65165X    accepted  Viral Load  2025-09-15T09:24:06+02:00   \n",
       "2             11627X    accepted  Viral Load  2025-09-15T09:29:05+02:00   \n",
       "3             28427E    accepted  Viral Load  2025-09-16T10:01:04+02:00   \n",
       "4             50034P    accepted  Viral Load  2025-09-15T08:44:19+02:00   \n",
       "\n",
       "           date_sample_taken encounter_facility encounter_facility_id  \\\n",
       "0  2025-09-16T09:39:31+02:00              Nketa              ZW090A17   \n",
       "1  2025-09-16T09:23:49+02:00              Nketa              ZW090A17   \n",
       "2  2025-09-16T09:28:25+02:00              Nketa              ZW090A17   \n",
       "3  2025-09-16T10:00:42+02:00              Nketa              ZW090A17   \n",
       "4  2025-09-16T08:44:01+02:00              Nketa              ZW090A17   \n",
       "\n",
       "  impilo_cid_long_lab_req_num  \n",
       "0       09-0A-17-2025-L-15023  \n",
       "1       09-0A-17-2025-L-14843  \n",
       "2       09-0A-17-2025-L-14851  \n",
       "3       09-0A-17-2025-L-15049  \n",
       "4       09-0A-17-2025-L-14758  "
      ]
     },
     "execution_count": 78,
     "metadata": {},
     "output_type": "execute_result"
    }
   ],
   "source": [
    "df3 = pd.read_csv('shr.csv')\n",
    "df3.head()"
   ]
  },
  {
   "cell_type": "code",
   "execution_count": 79,
   "id": "4f2c2539",
   "metadata": {},
   "outputs": [
    {
     "name": "stdout",
     "output_type": "stream",
     "text": [
      "Unmatched records in df1: 49\n",
      "Unmatched records in df3: 19\n"
     ]
    }
   ],
   "source": [
    "# See which records don't match\n",
    "df1_unmatched = df1[~df1['Laboratory Request Number'].isin(df3['impilo_cid_long_lab_req_num'])]\n",
    "df3_unmatched = df3[~df3['impilo_cid_long_lab_req_num'].isin(df1['Laboratory Request Number'])]\n",
    "\n",
    "print(f\"Unmatched records in df1: {len(df1_unmatched)}\")\n",
    "print(f\"Unmatched records in df3: {len(df3_unmatched)}\")"
   ]
  },
  {
   "cell_type": "code",
   "execution_count": 80,
   "id": "360adc1c",
   "metadata": {},
   "outputs": [
    {
     "name": "stdout",
     "output_type": "stream",
     "text": [
      "Original df1 shape: (77, 8)\n",
      "Original df2 shape: (47, 8)\n",
      "Merged df shape: (28, 16)\n",
      "  Date Sample Taken Laboratory Request Number             Art Number  \\\n",
      "0        2025-09-16     09-0A-17-2025-L-14893  09-0A-17-2008-A-01005   \n",
      "1        2025-09-16     09-0A-17-2025-L-14906  09-0A-17-2011-A-01352   \n",
      "2        2025-09-16     09-0A-17-2025-L-14910       090A172009A01340   \n",
      "3        2025-09-16     09-0A-17-2025-L-14926  09-0A-17-2011-A-01407   \n",
      "4        2025-09-16     09-0A-17-2025-L-14945  09-0A-17-2012-A-00812   \n",
      "\n",
      "  Cohort Number Facility   Test Type      Request Reason Date Result Issued  \\\n",
      "0      SEP-2008    Nketa  Viral Load  Routine Viral Load         2025-09-16   \n",
      "1      SEP-2011    Nketa  Viral Load  Routine Viral Load         2025-09-16   \n",
      "2      SPT-2009    Nketa  Viral Load  Routine Viral Load         2025-09-16   \n",
      "3      SEP-2011    Nketa  Viral Load  Routine Viral Load         2025-09-16   \n",
      "4      SEP-2012    Nketa  Viral Load  Routine Viral Load         2025-09-16   \n",
      "\n",
      "  lab_request_number task_status   test_type           task_authored_on  \\\n",
      "0             92479M    accepted  Viral Load  2025-09-16T07:55:10+02:00   \n",
      "1             13959X    received  Viral Load  2025-09-16T08:07:29+02:00   \n",
      "2             84482R    received  Viral Load  2025-09-16T08:08:50+02:00   \n",
      "3             22837M    accepted  Viral Load  2025-09-16T08:20:22+02:00   \n",
      "4             59571J    accepted  Viral Load  2025-09-16T08:30:02+02:00   \n",
      "\n",
      "           date_sample_taken encounter_facility encounter_facility_id  \\\n",
      "0  2025-09-16T07:54:43+02:00              Nketa              ZW090A17   \n",
      "1  2025-09-16T08:07:03+02:00              Nketa              ZW090A17   \n",
      "2  2025-09-16T08:08:28+02:00              Nketa              ZW090A17   \n",
      "3  2025-09-16T08:19:43+02:00              Nketa              ZW090A17   \n",
      "4  2025-09-16T08:29:46+02:00              Nketa              ZW090A17   \n",
      "\n",
      "  impilo_cid_long_lab_req_num  \n",
      "0       09-0A-17-2025-L-14893  \n",
      "1       09-0A-17-2025-L-14906  \n",
      "2       09-0A-17-2025-L-14910  \n",
      "3       09-0A-17-2025-L-14926  \n",
      "4       09-0A-17-2025-L-14945  \n"
     ]
    }
   ],
   "source": [
    "# Read your datasets (adjust file paths as needed)\n",
    "df1 = pd.read_csv('nketa-orders0916.csv')  # The one with impilo_cid_long_lab_req_num\n",
    "df2 = pd.read_csv('shr.csv')  # The one with Laboratory Request Number\n",
    "\n",
    "# Clean column names if needed\n",
    "df1.columns = df1.columns.str.strip()\n",
    "df2.columns = df2.columns.str.strip()\n",
    "\n",
    "# Merge the datasets\n",
    "merged_df = pd.merge(\n",
    "    df1, \n",
    "    df2, \n",
    "    left_on='Laboratory Request Number', \n",
    "    right_on='impilo_cid_long_lab_req_num',\n",
    "    how='inner'\n",
    ")\n",
    "\n",
    "# Optional: Remove duplicate column after merge\n",
    "# merged_df = merged_df.drop('Laboratory Request Number', axis=1)\n",
    "\n",
    "print(f\"Original df1 shape: {df1.shape}\")\n",
    "print(f\"Original df2 shape: {df2.shape}\")\n",
    "print(f\"Merged df shape: {merged_df.shape}\")\n",
    "print(merged_df.head())"
   ]
  },
  {
   "cell_type": "code",
   "execution_count": 81,
   "id": "f940b9c8",
   "metadata": {},
   "outputs": [
    {
     "name": "stdout",
     "output_type": "stream",
     "text": [
      "Left merge shape: (77, 16)\n",
      "File saved as 'matched.csv'\n",
      "\n",
      "Match Status Summary:\n",
      "No Match    49\n",
      "Match       28\n",
      "Name: match_status, dtype: int64\n"
     ]
    }
   ],
   "source": [
    "left_merge = pd.merge(df1, df3, left_on='Laboratory Request Number', right_on='impilo_cid_long_lab_req_num', how='left')\n",
    "print(f\"Left merge shape: {left_merge.shape}\")\n",
    "\n",
    "# Add match status column\n",
    "left_merge['match_status'] = left_merge['impilo_cid_long_lab_req_num'].apply(\n",
    "    lambda x: 'Match' if pd.notna(x) else 'No Match'\n",
    ")\n",
    "\n",
    "# Save to CSV\n",
    "left_merge.to_csv('matched.csv', index=False)\n",
    "print(\"File saved as 'matched.csv'\")\n",
    "\n",
    "# Show match summary\n",
    "print(\"\\nMatch Status Summary:\")\n",
    "print(left_merge['match_status'].value_counts())"
   ]
  },
  {
   "cell_type": "code",
   "execution_count": null,
   "id": "58ab278a",
   "metadata": {},
   "outputs": [],
   "source": []
  }
 ],
 "metadata": {
  "kernelspec": {
   "display_name": "base",
   "language": "python",
   "name": "python3"
  },
  "language_info": {
   "codemirror_mode": {
    "name": "ipython",
    "version": 3
   },
   "file_extension": ".py",
   "mimetype": "text/x-python",
   "name": "python",
   "nbconvert_exporter": "python",
   "pygments_lexer": "ipython3",
   "version": "3.9.7"
  }
 },
 "nbformat": 4,
 "nbformat_minor": 5
}
